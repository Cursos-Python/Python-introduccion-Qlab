{
  "nbformat": 4,
  "nbformat_minor": 0,
  "metadata": {
    "colab": {
      "provenance": [],
      "include_colab_link": true
    },
    "kernelspec": {
      "name": "python3",
      "display_name": "Python 3"
    },
    "language_info": {
      "name": "python"
    }
  },
  "cells": [
    {
      "cell_type": "markdown",
      "metadata": {
        "id": "view-in-github",
        "colab_type": "text"
      },
      "source": [
        "<a href=\"https://colab.research.google.com/github/luccemhu/sesion-1/blob/main/S1a_intro.ipynb\" target=\"_parent\"><img src=\"https://colab.research.google.com/assets/colab-badge.svg\" alt=\"Open In Colab\"/></a>"
      ]
    },
    {
      "cell_type": "markdown",
      "source": [
        "# TALLER PYTHON - QLAB 2023-2\n"
      ],
      "metadata": {
        "id": "EwIUFR8ja3-g"
      }
    },
    {
      "cell_type": "markdown",
      "source": [
        "Recordatorio:\n",
        "i) La variable puede ser una secuencia seguida de letras y dígitos.\n",
        "ii) a.. z, y A.. Z, el guión bajo (_) es una letra."
      ],
      "metadata": {
        "id": "5uuqeQdMbgn7"
      }
    },
    {
      "cell_type": "markdown",
      "source": [
        "### Variables numericas"
      ],
      "metadata": {
        "id": "2z_nLYhLb2k-"
      }
    },
    {
      "cell_type": "code",
      "source": [
        "entero = 10 # Una variable/objeto no puede comenzar con número\n",
        "print(entero) # Output, imprimir\n",
        "type(entero) # Tipo de variable"
      ],
      "metadata": {
        "id": "xS9SOpnxb583",
        "colab": {
          "base_uri": "https://localhost:8080/"
        },
        "outputId": "b474d462-7d49-4f19-9d86-1a21e048ee9d"
      },
      "execution_count": null,
      "outputs": [
        {
          "output_type": "stream",
          "name": "stdout",
          "text": [
            "10\n"
          ]
        },
        {
          "output_type": "execute_result",
          "data": {
            "text/plain": [
              "int"
            ]
          },
          "metadata": {},
          "execution_count": 8
        }
      ]
    },
    {
      "cell_type": "code",
      "source": [
        "real = 0.3403 # variable real (decimales)\n",
        "print(real)\n",
        "type(real)"
      ],
      "metadata": {
        "id": "6s0P8k72b_D0",
        "colab": {
          "base_uri": "https://localhost:8080/"
        },
        "outputId": "2a41af63-5a26-4e3b-f5de-5758c983ec02"
      },
      "execution_count": null,
      "outputs": [
        {
          "output_type": "stream",
          "name": "stdout",
          "text": [
            "0.3403\n"
          ]
        },
        {
          "output_type": "execute_result",
          "data": {
            "text/plain": [
              "float"
            ]
          },
          "metadata": {},
          "execution_count": 9
        }
      ]
    },
    {
      "cell_type": "code",
      "source": [
        "z = 2 + 3j # variable compleja\n",
        "print(z)\n",
        "type(z)"
      ],
      "metadata": {
        "id": "7woaSs-wcHrH",
        "colab": {
          "base_uri": "https://localhost:8080/"
        },
        "outputId": "4edeb068-fa54-4d20-9a04-519b2f7091e8"
      },
      "execution_count": null,
      "outputs": [
        {
          "output_type": "stream",
          "name": "stdout",
          "text": [
            "(2+3j)\n"
          ]
        },
        {
          "output_type": "execute_result",
          "data": {
            "text/plain": [
              "complex"
            ]
          },
          "metadata": {},
          "execution_count": 10
        }
      ]
    },
    {
      "cell_type": "markdown",
      "source": [
        "### Booleanos\n",
        "Una variable de tipo booleano sólo puede tener dos valores: True (verdadero) y False (falso)\n",
        "- Importante para los bucles o condiciones"
      ],
      "metadata": {
        "id": "f7JQKUG9cVIz"
      }
    },
    {
      "cell_type": "code",
      "source": [
        "a = True\n",
        "print(a)\n",
        "type(a)"
      ],
      "metadata": {
        "id": "vxDf2RDdcttf",
        "colab": {
          "base_uri": "https://localhost:8080/"
        },
        "outputId": "29f9e68e-1f97-43b3-c39f-1f2802d95d60"
      },
      "execution_count": null,
      "outputs": [
        {
          "output_type": "stream",
          "name": "stdout",
          "text": [
            "True\n"
          ]
        },
        {
          "output_type": "execute_result",
          "data": {
            "text/plain": [
              "bool"
            ]
          },
          "metadata": {},
          "execution_count": 11
        }
      ]
    },
    {
      "cell_type": "markdown",
      "source": [
        "### Cadenas\n",
        "Las cadenas es texto encerrado entre comillas simples (‘cadena’) o dobles (“cadena”)"
      ],
      "metadata": {
        "id": "TNE8YlZAczxL"
      }
    },
    {
      "cell_type": "code",
      "source": [
        "cadena = \"Hola mundo\"\n",
        "print(cadena)\n",
        "# cadena"
      ],
      "metadata": {
        "id": "NQs5CDGvdPCY",
        "colab": {
          "base_uri": "https://localhost:8080/"
        },
        "outputId": "d27c98cc-0ca0-4b7f-c560-1a15b3b1c6b7"
      },
      "execution_count": null,
      "outputs": [
        {
          "output_type": "stream",
          "name": "stdout",
          "text": [
            "Hola mundo\n"
          ]
        }
      ]
    },
    {
      "cell_type": "code",
      "source": [
        "type(cadena)"
      ],
      "metadata": {
        "id": "IiFMS-zvdRyF",
        "colab": {
          "base_uri": "https://localhost:8080/"
        },
        "outputId": "f3dce018-c4ad-4b87-cf95-18d5e57fd124"
      },
      "execution_count": null,
      "outputs": [
        {
          "output_type": "execute_result",
          "data": {
            "text/plain": [
              "str"
            ]
          },
          "metadata": {},
          "execution_count": 13
        }
      ]
    },
    {
      "cell_type": "code",
      "source": [
        "print(len(cadena)) # len: longitud de la cadena: en este caso 10 espacios"
      ],
      "metadata": {
        "id": "XVpCTBTQdV3f",
        "colab": {
          "base_uri": "https://localhost:8080/"
        },
        "outputId": "3c475905-338c-449e-f8fa-2ed8a41e4647"
      },
      "execution_count": null,
      "outputs": [
        {
          "output_type": "stream",
          "name": "stdout",
          "text": [
            "10\n"
          ]
        }
      ]
    },
    {
      "cell_type": "code",
      "source": [
        "print( cadena[0] ) # Imprimir el primer caracter de la cadena (la primera letra)"
      ],
      "metadata": {
        "id": "QAPqGDTLdbmb",
        "colab": {
          "base_uri": "https://localhost:8080/"
        },
        "outputId": "33279454-fc54-471b-b01c-fc5aee91c053"
      },
      "execution_count": null,
      "outputs": [
        {
          "output_type": "stream",
          "name": "stdout",
          "text": [
            "H\n"
          ]
        }
      ]
    },
    {
      "cell_type": "code",
      "source": [
        "# Ejercicio a realizar\n",
        "print( cadena[5] )"
      ],
      "metadata": {
        "id": "Ox7OECAmefeA",
        "colab": {
          "base_uri": "https://localhost:8080/"
        },
        "outputId": "ddb7bb4c-440c-44ea-f3f6-0d63412c378d"
      },
      "execution_count": null,
      "outputs": [
        {
          "output_type": "stream",
          "name": "stdout",
          "text": [
            "m\n"
          ]
        }
      ]
    },
    {
      "cell_type": "markdown",
      "source": [
        "### Operadores aritméticos"
      ],
      "metadata": {
        "id": "UwJ3lKgRerYh"
      }
    },
    {
      "cell_type": "code",
      "source": [
        "8**2 # 8 al cuadrado (exponente)"
      ],
      "metadata": {
        "id": "j-NKFhW5euBj",
        "colab": {
          "base_uri": "https://localhost:8080/"
        },
        "outputId": "8a14eca2-0e05-41ab-927b-9c4ce85cb0f5"
      },
      "execution_count": null,
      "outputs": [
        {
          "output_type": "execute_result",
          "data": {
            "text/plain": [
              "64"
            ]
          },
          "metadata": {},
          "execution_count": 17
        }
      ]
    },
    {
      "cell_type": "code",
      "source": [
        "11/3 # division"
      ],
      "metadata": {
        "id": "Df-MiTT7ezOb",
        "colab": {
          "base_uri": "https://localhost:8080/"
        },
        "outputId": "a3055c83-14fb-470a-e423-a5e243471e93"
      },
      "execution_count": null,
      "outputs": [
        {
          "output_type": "execute_result",
          "data": {
            "text/plain": [
              "3.6666666666666665"
            ]
          },
          "metadata": {},
          "execution_count": 18
        }
      ]
    },
    {
      "cell_type": "code",
      "source": [
        "11//3 # División entera (redondea)"
      ],
      "metadata": {
        "id": "19IF06aGe3ac",
        "colab": {
          "base_uri": "https://localhost:8080/"
        },
        "outputId": "a2b0234b-a2d1-46e3-cb52-25a38446a68d"
      },
      "execution_count": null,
      "outputs": [
        {
          "output_type": "execute_result",
          "data": {
            "text/plain": [
              "3"
            ]
          },
          "metadata": {},
          "execution_count": 19
        }
      ]
    },
    {
      "cell_type": "code",
      "source": [
        "11/3\n",
        "\n",
        "11%3 # Residuo de la division"
      ],
      "metadata": {
        "id": "8AWk2Zhje8Cw",
        "colab": {
          "base_uri": "https://localhost:8080/"
        },
        "outputId": "2e31ef7a-e5c0-475b-9f56-20f71bedaf22"
      },
      "execution_count": null,
      "outputs": [
        {
          "output_type": "execute_result",
          "data": {
            "text/plain": [
              "2"
            ]
          },
          "metadata": {},
          "execution_count": 20
        }
      ]
    },
    {
      "cell_type": "code",
      "source": [
        "49%7 # El residuo debe ser cero para que en este caso sea multiplo de 7. Sí lo es."
      ],
      "metadata": {
        "colab": {
          "base_uri": "https://localhost:8080/"
        },
        "id": "GVS5T4aOoopa",
        "outputId": "2539433a-b395-4420-d1de-ce9d7e68b1e0"
      },
      "execution_count": null,
      "outputs": [
        {
          "output_type": "execute_result",
          "data": {
            "text/plain": [
              "0"
            ]
          },
          "metadata": {},
          "execution_count": 21
        }
      ]
    },
    {
      "cell_type": "markdown",
      "source": [
        "### Operadores booleanos"
      ],
      "metadata": {
        "id": "GPNKZsV8fGJm"
      }
    },
    {
      "cell_type": "code",
      "source": [
        "7 > 2"
      ],
      "metadata": {
        "id": "APBfhoTFfKXC",
        "colab": {
          "base_uri": "https://localhost:8080/"
        },
        "outputId": "b37aac46-909c-440e-97a4-9065835e6d01"
      },
      "execution_count": null,
      "outputs": [
        {
          "output_type": "execute_result",
          "data": {
            "text/plain": [
              "True"
            ]
          },
          "metadata": {},
          "execution_count": 22
        }
      ]
    },
    {
      "cell_type": "code",
      "source": [
        "\"Hola\" == \"hola\""
      ],
      "metadata": {
        "id": "0sstIlUhfMLC",
        "colab": {
          "base_uri": "https://localhost:8080/"
        },
        "outputId": "7d732c7e-df6a-4896-b611-b7971dc092f1"
      },
      "execution_count": null,
      "outputs": [
        {
          "output_type": "execute_result",
          "data": {
            "text/plain": [
              "False"
            ]
          },
          "metadata": {},
          "execution_count": 23
        }
      ]
    },
    {
      "cell_type": "code",
      "source": [
        "a = 3.0\n",
        "b = 3.1\n",
        "c =  b != a # \"b\" no es igual a \"a\""
      ],
      "metadata": {
        "id": "qSTVK0GGfN59"
      },
      "execution_count": null,
      "outputs": []
    },
    {
      "cell_type": "code",
      "source": [
        "print(c)"
      ],
      "metadata": {
        "id": "tgYA7H6DfWii",
        "colab": {
          "base_uri": "https://localhost:8080/"
        },
        "outputId": "899c2ae4-9447-4670-e70a-5d28f7e0bf4c"
      },
      "execution_count": null,
      "outputs": [
        {
          "output_type": "stream",
          "name": "stdout",
          "text": [
            "True\n"
          ]
        }
      ]
    },
    {
      "cell_type": "markdown",
      "source": [
        "###Listas\n",
        "Son colecciones ordenadas de items.\n",
        "* Se puede cambiar los items de la lista.\n",
        "* La longitud de la lista de puede obtener con la funcion <b>len()</b>\n",
        "* El primer item es el indice 0."
      ],
      "metadata": {
        "id": "Fr8CxqkZq0dY"
      }
    },
    {
      "cell_type": "code",
      "source": [
        "milista = [1, 2, 3, \"hola\"]\n",
        "print(milista)"
      ],
      "metadata": {
        "id": "Xc-zoxCZtL0U",
        "colab": {
          "base_uri": "https://localhost:8080/"
        },
        "outputId": "0dc3881e-25f8-4127-83f3-66fc3dae8f94"
      },
      "execution_count": null,
      "outputs": [
        {
          "output_type": "stream",
          "name": "stdout",
          "text": [
            "[1, 2, 3, 'hola']\n"
          ]
        }
      ]
    },
    {
      "cell_type": "code",
      "source": [
        "print( milista[-1] ) # Imprime desde el lado derecho (la primera variable)"
      ],
      "metadata": {
        "id": "nSGbGTPQtQhE",
        "colab": {
          "base_uri": "https://localhost:8080/"
        },
        "outputId": "414a2aac-5fc4-4579-9277-baed209a2d7b"
      },
      "execution_count": null,
      "outputs": [
        {
          "output_type": "stream",
          "name": "stdout",
          "text": [
            "hola\n"
          ]
        }
      ]
    },
    {
      "cell_type": "code",
      "source": [
        "print( len(milista) ) # En la lista hay 4 variables"
      ],
      "metadata": {
        "id": "Xj_An3RgtRMD",
        "colab": {
          "base_uri": "https://localhost:8080/"
        },
        "outputId": "89442a04-e128-4048-c956-6212e194ec81"
      },
      "execution_count": null,
      "outputs": [
        {
          "output_type": "stream",
          "name": "stdout",
          "text": [
            "4\n"
          ]
        }
      ]
    },
    {
      "cell_type": "code",
      "source": [
        "for item in milista: # for in <- comandos para imprimir\n",
        "    print (item)"
      ],
      "metadata": {
        "id": "BsUzNIH2tbKW",
        "colab": {
          "base_uri": "https://localhost:8080/"
        },
        "outputId": "cc5d9377-4713-4538-f26f-73949df9760e"
      },
      "execution_count": null,
      "outputs": [
        {
          "output_type": "stream",
          "name": "stdout",
          "text": [
            "1\n",
            "2\n",
            "3\n",
            "hola\n"
          ]
        }
      ]
    },
    {
      "cell_type": "code",
      "source": [
        "milista[0] = 3 #  Cambir el primer elemento (en este caso es 1) por 3\n",
        "print(milista)"
      ],
      "metadata": {
        "id": "eNwm1I_Stoc-",
        "colab": {
          "base_uri": "https://localhost:8080/"
        },
        "outputId": "62c79723-32b8-484b-f360-ba35d31992fa"
      },
      "execution_count": null,
      "outputs": [
        {
          "output_type": "stream",
          "name": "stdout",
          "text": [
            "[3, 2, 3, 'hola']\n"
          ]
        }
      ]
    },
    {
      "cell_type": "code",
      "source": [
        "milista.append(33) # .append() <- Para agregar otra variable (33) a la lista \"milista\"\n",
        "print(milista)"
      ],
      "metadata": {
        "id": "Lt1E9Vsst5Cx",
        "colab": {
          "base_uri": "https://localhost:8080/"
        },
        "outputId": "389b1080-877b-41e4-8fd3-587fe881ebcc"
      },
      "execution_count": null,
      "outputs": [
        {
          "output_type": "stream",
          "name": "stdout",
          "text": [
            "[3, 2, 3, 'hola', 33]\n"
          ]
        }
      ]
    },
    {
      "cell_type": "code",
      "source": [
        "otralista = [ 7, 8, 9] # Creo otro objeto (otralista)\n",
        "milista.extend(otralista) # .extend() <- para gregar otra lista a la lista \"milista\"\n",
        "print(milista)"
      ],
      "metadata": {
        "id": "2_xgVR8_t9_i",
        "colab": {
          "base_uri": "https://localhost:8080/"
        },
        "outputId": "f86d9e45-574d-4d9f-b2ee-c082300cc14b"
      },
      "execution_count": null,
      "outputs": [
        {
          "output_type": "stream",
          "name": "stdout",
          "text": [
            "[3, 2, 3, 'hola', 33, 7, 8, 9]\n"
          ]
        }
      ]
    },
    {
      "cell_type": "code",
      "source": [
        "del milista[1] # del <- Para borrar el segundo elemento de la lista creada (en este caso se borra el 2)\n",
        "milista"
      ],
      "metadata": {
        "id": "KN0o-t7luFmT",
        "colab": {
          "base_uri": "https://localhost:8080/"
        },
        "outputId": "fbdcd7d9-7ec0-494e-f647-1a1ec9e67eff"
      },
      "execution_count": null,
      "outputs": [
        {
          "output_type": "execute_result",
          "data": {
            "text/plain": [
              "[3, 3, 'hola', 33, 7, 8, 9]"
            ]
          },
          "metadata": {},
          "execution_count": 33
        }
      ]
    },
    {
      "cell_type": "markdown",
      "source": [
        "### Diccionarios\n",
        "Son estructuras que almacenan entradas (pares <b>clave:valor</b>)\n",
        "\n",
        "*valores inmutables: que no se pudean duplicar. lo valores pueden ser de cualquier tipo*"
      ],
      "metadata": {
        "id": "gR2O6zrDu_yT"
      }
    },
    {
      "cell_type": "code",
      "source": [
        "dic_edades = {'Maria': 25, 'Jose': 28, 'Pedro': 35}\n",
        "print(dic_edades)"
      ],
      "metadata": {
        "id": "uRZeuA7lvcD8",
        "colab": {
          "base_uri": "https://localhost:8080/"
        },
        "outputId": "8e4f07fc-47d1-4be9-91f6-4778e1492ab5"
      },
      "execution_count": null,
      "outputs": [
        {
          "output_type": "stream",
          "name": "stdout",
          "text": [
            "{'Maria': 25, 'Jose': 28, 'Pedro': 35}\n"
          ]
        }
      ]
    },
    {
      "cell_type": "code",
      "source": [
        "dic_edades['Jose'] # Buscar el valor de jose"
      ],
      "metadata": {
        "id": "ee-c9s7fvfMc",
        "colab": {
          "base_uri": "https://localhost:8080/"
        },
        "outputId": "c79d1584-ddc1-4daf-93ca-f50fcb3acefd"
      },
      "execution_count": null,
      "outputs": [
        {
          "output_type": "execute_result",
          "data": {
            "text/plain": [
              "28"
            ]
          },
          "metadata": {},
          "execution_count": 35
        }
      ]
    },
    {
      "cell_type": "code",
      "source": [
        "dic_edades['Jose'] = 30 # cambiar el valor de jose\n",
        "print(dic_edades)"
      ],
      "metadata": {
        "id": "_9jo_kyNvkB3",
        "colab": {
          "base_uri": "https://localhost:8080/"
        },
        "outputId": "e3f1533e-d48e-4a0e-a97b-34f63608cb59"
      },
      "execution_count": null,
      "outputs": [
        {
          "output_type": "stream",
          "name": "stdout",
          "text": [
            "{'Maria': 25, 'Jose': 30, 'Pedro': 35}\n"
          ]
        }
      ]
    },
    {
      "cell_type": "code",
      "source": [
        "dic_edades.keys() # Para recuperar todas las claves del diccionario"
      ],
      "metadata": {
        "id": "vKKjQnkOvrbp",
        "colab": {
          "base_uri": "https://localhost:8080/"
        },
        "outputId": "a44ba45b-7bff-496a-ffe5-fed9f7ca8f8d"
      },
      "execution_count": null,
      "outputs": [
        {
          "output_type": "execute_result",
          "data": {
            "text/plain": [
              "dict_keys(['Maria', 'Jose', 'Pedro'])"
            ]
          },
          "metadata": {},
          "execution_count": 37
        }
      ]
    },
    {
      "cell_type": "code",
      "source": [
        "dic_edades.values() # Para recuperar todos los valres del diccionario"
      ],
      "metadata": {
        "id": "W_j0FMnPvtW7",
        "colab": {
          "base_uri": "https://localhost:8080/"
        },
        "outputId": "fbd82589-92de-4c6a-954f-0705158ce86d"
      },
      "execution_count": null,
      "outputs": [
        {
          "output_type": "execute_result",
          "data": {
            "text/plain": [
              "dict_values([25, 30, 35])"
            ]
          },
          "metadata": {},
          "execution_count": 38
        }
      ]
    },
    {
      "cell_type": "code",
      "source": [
        "dic_edades.items() # Similar a un print, recupera todo: claves y valores"
      ],
      "metadata": {
        "id": "BRwwQVh3vxj3",
        "colab": {
          "base_uri": "https://localhost:8080/"
        },
        "outputId": "f6a3bc06-48d2-4333-f2ba-4f7489f8dfb8"
      },
      "execution_count": null,
      "outputs": [
        {
          "output_type": "execute_result",
          "data": {
            "text/plain": [
              "dict_items([('Maria', 25), ('Jose', 30), ('Pedro', 35)])"
            ]
          },
          "metadata": {},
          "execution_count": 39
        }
      ]
    },
    {
      "cell_type": "markdown",
      "source": [
        "### Sentencias condicionales\n",
        "\n",
        "*controles de flujos:*\n",
        "\n",
        "* Condicionales <b>if ... else</b> sería como condiciones dicotomicas\n",
        "* Condicionales <b>if ...elif...else</b> como condiciones politomicas"
      ],
      "metadata": {
        "id": "ntWI9LdLv5LX"
      }
    },
    {
      "cell_type": "code",
      "source": [
        "valor = str(input('¿Quién es la mejor cantante? ')) # aquí se despliega una celda para la respuesta. Por ejemplo, si se se responde \"Lana del Rey\", el output será 'Estoy de acuerdo'. # str() <- palabras\n",
        "if valor == \"Lana del Rey\":\n",
        "    print('Estoy de acuerdo')\n",
        "else:\n",
        "    print('respeto tu opinion')"
      ],
      "metadata": {
        "id": "OdemR7W-w8WA",
        "colab": {
          "base_uri": "https://localhost:8080/"
        },
        "outputId": "de2615f5-4cab-4e85-b611-325c2bf56fd8"
      },
      "execution_count": null,
      "outputs": [
        {
          "output_type": "stream",
          "name": "stdout",
          "text": [
            "¿Quién es la mejor cantante? juan\n",
            "respeto tu opinion\n"
          ]
        }
      ]
    },
    {
      "cell_type": "code",
      "source": [
        "valor = int(input('¿Cual es tu edad?: ')) # aquí se despliega una celda para la respuesta. Los codigos que siguen son condicionales. # int() <- enteros\n",
        "\n",
        "if 0 <= valor <= 20:\n",
        "    print('Eres muy joven')\n",
        "elif 20 < valor <= 40:\n",
        "    print('Eres joven aun')\n",
        "elif 40 < valor <= 60:\n",
        "    print('Tu experiencia es valiosa')\n",
        "else:\n",
        "    print('Tienes mucho que enseñarnos')"
      ],
      "metadata": {
        "id": "a5RZIElkw10J",
        "colab": {
          "base_uri": "https://localhost:8080/"
        },
        "outputId": "a90cd490-d709-4525-8dd8-d537842957f4"
      },
      "execution_count": null,
      "outputs": [
        {
          "output_type": "stream",
          "name": "stdout",
          "text": [
            "¿Cual es tu edad?: 40\n",
            "Eres joven aun\n"
          ]
        }
      ]
    },
    {
      "cell_type": "markdown",
      "source": [
        "### Bucle <b>While</b>\n",
        "\n",
        "-   Repite la accion mientras se mantenga la condicion"
      ],
      "metadata": {
        "id": "8AWyUMZGxOgt"
      }
    },
    {
      "cell_type": "code",
      "source": [
        "i = 0 # Primer valor asignado\n",
        "while i < 10:\n",
        "    print(i)\n",
        "    i = i + 1 # Nuevo valor asignado hasta la condicion\n",
        "print('fin')"
      ],
      "metadata": {
        "colab": {
          "base_uri": "https://localhost:8080/"
        },
        "id": "nHhfotJxxa2e",
        "outputId": "c341e226-9a27-4dc8-ab4e-ca941af478e1"
      },
      "execution_count": null,
      "outputs": [
        {
          "output_type": "stream",
          "name": "stdout",
          "text": [
            "0\n",
            "1\n",
            "2\n",
            "3\n",
            "4\n",
            "5\n",
            "6\n",
            "7\n",
            "8\n",
            "9\n",
            "fin\n"
          ]
        }
      ]
    },
    {
      "cell_type": "markdown",
      "source": [
        "### Bucle <b>For</b>\n",
        "\n",
        "Repite la accion segun su lugar"
      ],
      "metadata": {
        "id": "xlFLAqPUxu4J"
      }
    },
    {
      "cell_type": "code",
      "source": [
        "milista = [\"hola\", \"¿como estas?\", \"adios\"] # Variables string\n",
        "for item in milista:\n",
        "    print(item)"
      ],
      "metadata": {
        "id": "h_3H1UH-ywcn",
        "colab": {
          "base_uri": "https://localhost:8080/"
        },
        "outputId": "bae714b2-48a8-463d-9b36-1e71a07f324f"
      },
      "execution_count": null,
      "outputs": [
        {
          "output_type": "stream",
          "name": "stdout",
          "text": [
            "hola\n",
            "¿como estas?\n",
            "adios\n"
          ]
        }
      ]
    },
    {
      "cell_type": "code",
      "source": [
        "# Usemos la lista dic_edades.items creada lineas arriba:\n",
        "for nombre, edad in dic_edades.items():\n",
        "    print(\"Edad de {}: {}\".format(nombre, edad))"
      ],
      "metadata": {
        "id": "irgiHEfvyyrN",
        "colab": {
          "base_uri": "https://localhost:8080/"
        },
        "outputId": "bc2e49fc-98d1-4e64-ec5e-b5dcf58c2a25"
      },
      "execution_count": null,
      "outputs": [
        {
          "output_type": "stream",
          "name": "stdout",
          "text": [
            "Edad de Maria: 25\n",
            "Edad de Jose: 30\n",
            "Edad de Pedro: 35\n"
          ]
        }
      ]
    },
    {
      "cell_type": "markdown",
      "source": [
        "Importante: <b>range(i)</b> genera una secuencia iterable de enteros entre 0 y i-1 (no incluye i)"
      ],
      "metadata": {
        "id": "khsBozbjzMis"
      }
    },
    {
      "cell_type": "code",
      "source": [
        "for i in range(10): # Enteros hasta antes del valor 10 # Por default el maximo sería 10 en este caso\n",
        "    print(\"valor de i=\", str(i))"
      ],
      "metadata": {
        "id": "w-lKCuSXzpge",
        "colab": {
          "base_uri": "https://localhost:8080/"
        },
        "outputId": "29e06279-db8a-49ea-9d1c-f8b396027acc"
      },
      "execution_count": null,
      "outputs": [
        {
          "output_type": "stream",
          "name": "stdout",
          "text": [
            "valor de i= 0\n",
            "valor de i= 1\n",
            "valor de i= 2\n",
            "valor de i= 3\n",
            "valor de i= 4\n",
            "valor de i= 5\n",
            "valor de i= 6\n",
            "valor de i= 7\n",
            "valor de i= 8\n",
            "valor de i= 9\n"
          ]
        }
      ]
    },
    {
      "cell_type": "code",
      "source": [
        "for i in range(5, 25, 2): # range(inicio, máximo, pasos) # Son argumentos del comando range()\n",
        "    print(\"valor de i=\", str(i))"
      ],
      "metadata": {
        "id": "Z9gaun-FzEcv",
        "colab": {
          "base_uri": "https://localhost:8080/"
        },
        "outputId": "7518b3b9-e309-413e-9f2e-0bfc7ce2f7a8"
      },
      "execution_count": null,
      "outputs": [
        {
          "output_type": "stream",
          "name": "stdout",
          "text": [
            "valor de i= 5\n",
            "valor de i= 7\n",
            "valor de i= 9\n",
            "valor de i= 11\n",
            "valor de i= 13\n",
            "valor de i= 15\n",
            "valor de i= 17\n",
            "valor de i= 19\n",
            "valor de i= 21\n",
            "valor de i= 23\n"
          ]
        }
      ]
    },
    {
      "cell_type": "markdown",
      "source": [
        "La sentencia <b>break</b> termina la ejecucion del bucle for"
      ],
      "metadata": {
        "id": "j8cS8U8t0wcZ"
      }
    },
    {
      "cell_type": "code",
      "source": [
        "for i in range(5):\n",
        "    for j in range(5):\n",
        "        if (i - j) == 3:\n",
        "            break    # rompe el for interno cuando i+j es igual a 3\n",
        "        print (\"i=\", str(i), \", j=\", str(j))"
      ],
      "metadata": {
        "id": "veBEcnBb0u62",
        "colab": {
          "base_uri": "https://localhost:8080/"
        },
        "outputId": "4d9b8c3a-5913-4d53-9ba3-4316a4b180b3"
      },
      "execution_count": null,
      "outputs": [
        {
          "output_type": "stream",
          "name": "stdout",
          "text": [
            "i= 0 , j= 0\n",
            "i= 0 , j= 1\n",
            "i= 0 , j= 2\n",
            "i= 0 , j= 3\n",
            "i= 0 , j= 4\n",
            "i= 1 , j= 0\n",
            "i= 1 , j= 1\n",
            "i= 1 , j= 2\n",
            "i= 1 , j= 3\n",
            "i= 1 , j= 4\n",
            "i= 2 , j= 0\n",
            "i= 2 , j= 1\n",
            "i= 2 , j= 2\n",
            "i= 2 , j= 3\n",
            "i= 2 , j= 4\n",
            "i= 4 , j= 0\n"
          ]
        }
      ]
    },
    {
      "cell_type": "markdown",
      "metadata": {
        "id": "PDWjRL-PFymx"
      },
      "source": [
        "<b>continue</b> termina la ejecucion de la iteracion actual en el bucle for y continua con la siguiente iteracion."
      ]
    },
    {
      "cell_type": "code",
      "source": [
        "for i in range(8):\n",
        "    if i == 4:\n",
        "        continue\n",
        "    print(i)"
      ],
      "metadata": {
        "id": "LgKYNVkN3AE0",
        "colab": {
          "base_uri": "https://localhost:8080/"
        },
        "outputId": "e6fdd026-44a8-47ad-dda2-4b248a06192b"
      },
      "execution_count": null,
      "outputs": [
        {
          "output_type": "stream",
          "name": "stdout",
          "text": [
            "0\n",
            "1\n",
            "2\n",
            "3\n",
            "5\n",
            "6\n",
            "7\n"
          ]
        }
      ]
    },
    {
      "cell_type": "markdown",
      "source": [
        "### FUNCIONES"
      ],
      "metadata": {
        "id": "UqTnJof147sM"
      }
    },
    {
      "cell_type": "code",
      "source": [
        "def suma(x, y):  # definimos la funcion -> Suma()\n",
        "    return x + y"
      ],
      "metadata": {
        "id": "cccsQjHD432p"
      },
      "execution_count": null,
      "outputs": []
    },
    {
      "cell_type": "code",
      "source": [
        "resultado = suma(1, 3) # Ahora colocamos los valores\n",
        "print(resultado)"
      ],
      "metadata": {
        "id": "VBUcvcp344fx",
        "colab": {
          "base_uri": "https://localhost:8080/"
        },
        "outputId": "fc948697-96b1-4f2c-8d66-e7ac09ec2fdf"
      },
      "execution_count": null,
      "outputs": [
        {
          "output_type": "stream",
          "name": "stdout",
          "text": [
            "4\n"
          ]
        }
      ]
    },
    {
      "cell_type": "code",
      "source": [
        "def area_rectangulo(largo, alto): # Establecemos otra funcion\n",
        "     return largo * alto # Aqui indicamos multiplicacion"
      ],
      "metadata": {
        "id": "XfF-KBt85u0_"
      },
      "execution_count": null,
      "outputs": []
    },
    {
      "cell_type": "code",
      "source": [
        "area_rectangulo(alto=5,largo=10) # Asignamos valores y nos imprime el resultado"
      ],
      "metadata": {
        "colab": {
          "base_uri": "https://localhost:8080/"
        },
        "id": "_tqJev8j2zTA",
        "outputId": "f8efad1e-46a1-4e84-b7ec-7e546b9cf9f2"
      },
      "execution_count": null,
      "outputs": [
        {
          "output_type": "execute_result",
          "data": {
            "text/plain": [
              "50"
            ]
          },
          "metadata": {},
          "execution_count": 55
        }
      ]
    },
    {
      "cell_type": "code",
      "source": [
        "Prueba en git"
      ],
      "metadata": {
        "id": "fz3PlJEhAKB-"
      },
      "execution_count": null,
      "outputs": []
    }
  ]
}