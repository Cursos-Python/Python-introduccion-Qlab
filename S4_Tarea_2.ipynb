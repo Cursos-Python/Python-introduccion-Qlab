{
  "nbformat": 4,
  "nbformat_minor": 0,
  "metadata": {
    "colab": {
      "provenance": [],
      "include_colab_link": true
    },
    "kernelspec": {
      "name": "python3",
      "display_name": "Python 3"
    },
    "language_info": {
      "name": "python"
    }
  },
  "cells": [
    {
      "cell_type": "markdown",
      "metadata": {
        "id": "view-in-github",
        "colab_type": "text"
      },
      "source": [
        "<a href=\"https://colab.research.google.com/github/luccemhu/Python-introduccion-Qlab/blob/main/S4_Tarea_2.ipynb\" target=\"_parent\"><img src=\"https://colab.research.google.com/assets/colab-badge.svg\" alt=\"Open In Colab\"/></a>"
      ]
    },
    {
      "cell_type": "markdown",
      "source": [
        "#Tarea 2\n",
        "<b> Plazo de entrega máximo sábado 9 de septiembre a 11:59 pm </b>"
      ],
      "metadata": {
        "id": "LKrKAGLgNXFq"
      }
    },
    {
      "cell_type": "markdown",
      "source": [
        "Supongamos que eres un analista de datos en una empresa de inversiones. Tienes datos de las tasas de retorno de 5 diferentes acciones en el mercado de valores durante 12 meses. Tu tarea es analizar estos datos para proporcionar información útil para futuras inversiones."
      ],
      "metadata": {
        "id": "4QVb3kheNq3X"
      }
    },
    {
      "cell_type": "markdown",
      "source": [
        "##Ejercicio 1\n",
        "Importar NumPy y matplotlib"
      ],
      "metadata": {
        "id": "By85d0yfN7UJ"
      }
    },
    {
      "cell_type": "code",
      "execution_count": null,
      "metadata": {
        "id": "5L3dnI4jNUnW"
      },
      "outputs": [],
      "source": []
    },
    {
      "cell_type": "markdown",
      "source": [
        "##Ejercicio 2\n",
        "Genera un array 2D de forma (5, 12) que contenga tasas de retorno aleatorias para 5 acciones durante 12 meses. Utiliza una tasa de retorno que varíe entre -0.1 (pérdida del 10%) y 0.1 (ganancia del 10%)"
      ],
      "metadata": {
        "id": "S57__DelOIzd"
      }
    },
    {
      "cell_type": "code",
      "source": [],
      "metadata": {
        "id": "ImrdIEUZOUau"
      },
      "execution_count": null,
      "outputs": []
    },
    {
      "cell_type": "markdown",
      "source": [
        "##Ejercicio 3\n",
        "Calcula la media de la tasa de retorno para cada acción"
      ],
      "metadata": {
        "id": "dKLBer8COU3s"
      }
    },
    {
      "cell_type": "code",
      "source": [],
      "metadata": {
        "id": "8ZQftvKWOgMD"
      },
      "execution_count": null,
      "outputs": []
    },
    {
      "cell_type": "markdown",
      "source": [
        "##Ejercicio 4\n",
        "Identifica el mejor y el peor mes para cada acción en términos de tasa de retorno"
      ],
      "metadata": {
        "id": "sXmbN6aGOfYl"
      }
    },
    {
      "cell_type": "code",
      "source": [],
      "metadata": {
        "id": "K8nB8qeuOmGn"
      },
      "execution_count": null,
      "outputs": []
    },
    {
      "cell_type": "markdown",
      "source": [
        "##Ejercicio 5\n",
        "Calcula la desviación estándar de la tasa de retorno para cada acción para medir su volatilidad"
      ],
      "metadata": {
        "id": "MDUVTIH1OmQW"
      }
    },
    {
      "cell_type": "code",
      "source": [],
      "metadata": {
        "id": "A0XwTYNlOuyr"
      },
      "execution_count": null,
      "outputs": []
    },
    {
      "cell_type": "markdown",
      "source": [
        "##Ejercicio 6\n",
        "Calcula la matriz de correlación entre las diferentes acciones"
      ],
      "metadata": {
        "id": "QwR0tPO8Oxrr"
      }
    },
    {
      "cell_type": "code",
      "source": [],
      "metadata": {
        "id": "pGkA-SkMO3P6"
      },
      "execution_count": null,
      "outputs": []
    },
    {
      "cell_type": "markdown",
      "source": [
        "## Ejercicio 7\n",
        "Basado en la media de retorno y la volatilidad, ¿qué acción recomendarías para una inversión a largo plazo?"
      ],
      "metadata": {
        "id": "cFt_3AVcO3c0"
      }
    },
    {
      "cell_type": "code",
      "source": [],
      "metadata": {
        "id": "dP_lZKaYO-LU"
      },
      "execution_count": null,
      "outputs": []
    },
    {
      "cell_type": "markdown",
      "source": [
        "## Ejercicio 8\n",
        "Utiliza matplotlib para visualizar la tasa de retorno de cada acción a lo largo del tiempo."
      ],
      "metadata": {
        "id": "vLfG7SFFO-Uu"
      }
    },
    {
      "cell_type": "code",
      "source": [],
      "metadata": {
        "id": "Xg15DoK7PG8T"
      },
      "execution_count": null,
      "outputs": []
    }
  ]
}