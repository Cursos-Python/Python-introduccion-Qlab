{
  "nbformat": 4,
  "nbformat_minor": 0,
  "metadata": {
    "colab": {
      "provenance": [],
      "include_colab_link": true
    },
    "kernelspec": {
      "name": "python3",
      "display_name": "Python 3"
    },
    "language_info": {
      "name": "python"
    }
  },
  "cells": [
    {
      "cell_type": "markdown",
      "metadata": {
        "id": "view-in-github",
        "colab_type": "text"
      },
      "source": [
        "<a href=\"https://colab.research.google.com/github/luccemhu/sesion-1/blob/main/Tarea_1.ipynb\" target=\"_parent\"><img src=\"https://colab.research.google.com/assets/colab-badge.svg\" alt=\"Open In Colab\"/></a>"
      ]
    },
    {
      "cell_type": "markdown",
      "source": [
        "#Tarea 1\n",
        "<b> Plazo de entrega máximo 31 de agosto a 11:59 pm </b>\n"
      ],
      "metadata": {
        "id": "76aahSrJweAK"
      }
    },
    {
      "cell_type": "markdown",
      "source": [
        "##Ejercicio 1\n",
        "\n",
        "Realiza una lista que almacene tus 5 películas favorita y halla la longitud de tu lista. Luego crea una segunda lista de tus 5 actores favoritos y anexala como item a la primera lista que has creado."
      ],
      "metadata": {
        "id": "jLxvK7puwilm"
      }
    },
    {
      "cell_type": "code",
      "source": [
        "#Crea la lista de tus 5 películas favoritas"
      ],
      "metadata": {
        "id": "gmbpVE0HwrjW"
      },
      "execution_count": null,
      "outputs": []
    },
    {
      "cell_type": "code",
      "source": [
        "#Halla la longitud"
      ],
      "metadata": {
        "id": "p2RZi0pdRt4h"
      },
      "execution_count": null,
      "outputs": []
    },
    {
      "cell_type": "code",
      "source": [
        "#Crea la lista de tus 5 actores favoritos"
      ],
      "metadata": {
        "id": "EozLt8tURx4Y"
      },
      "execution_count": null,
      "outputs": []
    },
    {
      "cell_type": "markdown",
      "source": [
        "##Ejercicio 2\n",
        "Realiza una lista que almacene tus 5 platos favoritos (por ejemplo tallarines, ceviche, lomo, frijol y cabrito) y la muestre por pantalla el mensaje “ A mi me gusta comer <*plato*> “, donde <*plato*> es cada uno de sus platos de comida favoritos."
      ],
      "metadata": {
        "id": "nydh-ayRwtsu"
      }
    },
    {
      "cell_type": "code",
      "source": [
        "#crea la lista de tus 5 platos favoritos"
      ],
      "metadata": {
        "id": "ChrtlwdEwxOH"
      },
      "execution_count": null,
      "outputs": []
    },
    {
      "cell_type": "markdown",
      "source": [
        "##Ejercicio 3\n",
        "Crea un diccionario con 4 pares de entradas. Cambia el valor de una de tus claves y muestra solo los valores de tus claves."
      ],
      "metadata": {
        "id": "-u6SF-7Gw2CG"
      }
    },
    {
      "cell_type": "code",
      "source": [],
      "metadata": {
        "id": "O3esdwPfw5MI"
      },
      "execution_count": null,
      "outputs": []
    },
    {
      "cell_type": "markdown",
      "source": [
        "##Ejercicio 4\n",
        "Usa la sentencia break para ejecutar un bucle donde se rompa el bucle for cuando (x - y) = 2. La primera y segunda secuencia iterable usando range (i) es 6\n"
      ],
      "metadata": {
        "id": "GmUzSQNpw_X3"
      }
    },
    {
      "cell_type": "code",
      "source": [],
      "metadata": {
        "id": "JFs8Ead1w_yP"
      },
      "execution_count": null,
      "outputs": []
    },
    {
      "cell_type": "markdown",
      "source": [
        "##Ejercicio 5\n",
        "Defina la función de división entera. Los parámetros serán \"a\" y \"b\", las cuales tomarán los valores de 145 y 14.\n"
      ],
      "metadata": {
        "id": "e34jgTHvxCJ-"
      }
    },
    {
      "cell_type": "code",
      "source": [],
      "metadata": {
        "id": "Tmie-o5kxCjv"
      },
      "execution_count": null,
      "outputs": []
    }
  ]
}