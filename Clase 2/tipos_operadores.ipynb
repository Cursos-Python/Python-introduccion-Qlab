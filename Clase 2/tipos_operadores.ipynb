{
  "cells": [
    {
      "cell_type": "markdown",
      "metadata": {
        "id": "view-in-github",
        "colab_type": "text"
      },
      "source": [
        "<a href=\"https://colab.research.google.com/github/luccemhu/Python-introduccion-Qlab/blob/luccemhu-patch-1/Clase%202/tipos_operadores.ipynb\" target=\"_parent\"><img src=\"https://colab.research.google.com/assets/colab-badge.svg\" alt=\"Open In Colab\"/></a>"
      ]
    },
    {
      "cell_type": "markdown",
      "metadata": {
        "id": "nROJnnE1Vh57"
      },
      "source": [
        "# Clase 1: Variables, tipos de datos, operadores y expresiones"
      ]
    },
    {
      "cell_type": "markdown",
      "metadata": {
        "id": "Fkuh42PwVh5-"
      },
      "source": [
        "<a class=\"anchor\" id=\"principio\"></a>\n",
        "\n",
        "## Introducción"
      ]
    },
    {
      "cell_type": "markdown",
      "metadata": {
        "id": "6JcLAKcPVh5-"
      },
      "source": [
        "En esta primera sesión revisaremos las piezas más pequeñas que conforman un programa. En esencia un programa es una serie de instrucciones que escribimos en un lenguaje determinado para que la máquina nos entienda.\n",
        "Veremos 4 elementos iniciales importantes para poder escribir programas:\n",
        "\n",
        "[1. Variables](#variables)   \n",
        "[2. Tipos de datos](#tipos-de-datos)  \n",
        "[3. Operadores](#operadores)  \n",
        "[4. Expresiones](#expresiones)  "
      ]
    },
    {
      "cell_type": "markdown",
      "metadata": {
        "id": "7mGmoUrvVh5_"
      },
      "source": [
        "<a class=\"anchor\" id=\"variables\"></a>\n",
        "## 1. Variables"
      ]
    },
    {
      "cell_type": "markdown",
      "metadata": {
        "id": "SYxSmRekVh5_"
      },
      "source": [
        "Las variables son todo aquello que definiremos con un nombre, y a lo que nos referiremos después si queremos usarlo. Las variables pueden ser datos, texto, números, pero también cosas más complicadas como funciones, o incluso otros programas.\n",
        "\n",
        "Las variables son, también, un nombre simbólico que representa la ubicación en la memoria de una computadora."
      ]
    },
    {
      "cell_type": "markdown",
      "metadata": {
        "id": "R0O4zwchVh5_"
      },
      "source": [
        "Se utiliza el operador = para asignarle el valor a la variable"
      ]
    },
    {
      "cell_type": "code",
      "execution_count": 2,
      "metadata": {
        "id": "lPPEZkjBVh6A",
        "outputId": "8ec77f98-1ac8-4549-96f3-21585ca86238",
        "colab": {
          "base_uri": "https://localhost:8080/"
        }
      },
      "outputs": [
        {
          "output_type": "stream",
          "name": "stdout",
          "text": [
            "Buenos días con todas y todos\n"
          ]
        }
      ],
      "source": [
        "bienvenida = \"Buenos días con todas y todos\"\n",
        "print(bienvenida)"
      ]
    },
    {
      "cell_type": "code",
      "execution_count": 3,
      "metadata": {
        "id": "q8b7hAlmVh6B",
        "outputId": "b8865f01-05b1-43f7-f709-17b7fe3e28b8",
        "colab": {
          "base_uri": "https://localhost:8080/"
        }
      },
      "outputs": [
        {
          "output_type": "stream",
          "name": "stdout",
          "text": [
            "6\n"
          ]
        }
      ],
      "source": [
        "operacion = 1 + 2 + 3\n",
        "print(operacion)"
      ]
    },
    {
      "cell_type": "markdown",
      "metadata": {
        "id": "4_O2OFKBVh6C"
      },
      "source": [
        "Se puede reasignar el valor de una variable: (superponer o chancar)"
      ]
    },
    {
      "cell_type": "code",
      "execution_count": 1,
      "metadata": {
        "id": "gwc1JcaHVh6C",
        "outputId": "a280880d-a786-4f3d-ee3f-da6635448d1f",
        "colab": {
          "base_uri": "https://localhost:8080/"
        }
      },
      "outputs": [
        {
          "output_type": "stream",
          "name": "stdout",
          "text": [
            "15\n"
          ]
        }
      ],
      "source": [
        "operacion = 4 + 5 + 6\n",
        "print(operacion)"
      ]
    },
    {
      "cell_type": "markdown",
      "metadata": {
        "id": "rGq6nPZ6Vh6D"
      },
      "source": [
        "No se puede llamar a una variable no definida:"
      ]
    },
    {
      "cell_type": "code",
      "execution_count": 4,
      "metadata": {
        "id": "VlzqRgVmVh6D",
        "outputId": "348815f9-4afa-4423-9df7-ca4ee7f55e22",
        "colab": {
          "base_uri": "https://localhost:8080/",
          "height": 175
        }
      },
      "outputs": [
        {
          "output_type": "error",
          "ename": "NameError",
          "evalue": "ignored",
          "traceback": [
            "\u001b[0;31m---------------------------------------------------------------------------\u001b[0m",
            "\u001b[0;31mNameError\u001b[0m                                 Traceback (most recent call last)",
            "\u001b[0;32m<ipython-input-4-f2a851930a89>\u001b[0m in \u001b[0;36m<cell line: 1>\u001b[0;34m()\u001b[0m\n\u001b[0;32m----> 1\u001b[0;31m \u001b[0mnueva_operacion\u001b[0m\u001b[0;34m\u001b[0m\u001b[0;34m\u001b[0m\u001b[0m\n\u001b[0m",
            "\u001b[0;31mNameError\u001b[0m: name 'nueva_operacion' is not defined"
          ]
        }
      ],
      "source": [
        "nueva_operacion # No corre uu"
      ]
    },
    {
      "cell_type": "markdown",
      "metadata": {
        "id": "HIYe99KRVh6D"
      },
      "source": [
        "[Volver a inicio](#principio)"
      ]
    },
    {
      "cell_type": "markdown",
      "metadata": {
        "id": "6TChNTdSVh6D"
      },
      "source": [
        "<a class=\"anchor\" id=\"tipos-de-datos\"></a>\n",
        "\n",
        "## 2. Tipos de datos"
      ]
    },
    {
      "cell_type": "markdown",
      "metadata": {
        "id": "LAC_DBkuVh6D"
      },
      "source": [
        "Son propeidad de las variables, pero es importante entendenrlos como una seccion aparte.\n",
        "Todas las variables de python son de algún (y único) tipo. De los ejemplos anteriores tenemos:"
      ]
    },
    {
      "cell_type": "code",
      "execution_count": 5,
      "metadata": {
        "id": "fyqKtcNbVh6D",
        "outputId": "1693d0aa-d3e5-4d2e-e9ac-54be49e80662",
        "colab": {
          "base_uri": "https://localhost:8080/"
        }
      },
      "outputs": [
        {
          "output_type": "execute_result",
          "data": {
            "text/plain": [
              "str"
            ]
          },
          "metadata": {},
          "execution_count": 5
        }
      ],
      "source": [
        "type(bienvenida)"
      ]
    },
    {
      "cell_type": "code",
      "execution_count": 6,
      "metadata": {
        "id": "SI1bLPOrVh6D",
        "outputId": "12fb064e-d677-4d58-d119-45973079f82e",
        "colab": {
          "base_uri": "https://localhost:8080/"
        }
      },
      "outputs": [
        {
          "output_type": "execute_result",
          "data": {
            "text/plain": [
              "int"
            ]
          },
          "metadata": {},
          "execution_count": 6
        }
      ],
      "source": [
        "type(operacion)"
      ]
    },
    {
      "cell_type": "markdown",
      "metadata": {
        "id": "35Vjp4RrVh6E"
      },
      "source": [
        "Los tipos más básicos son:\n",
        "- integers/floats(números) enteros o decimales\n",
        "- strings (texto)\n",
        "- booleans (verdadero o falso)\n",
        "\n",
        "Hay más tipos..."
      ]
    },
    {
      "cell_type": "markdown",
      "metadata": {
        "id": "bnxELz4AVh6E"
      },
      "source": [
        "Más generalmente,  los tipos de datos son:  \n",
        "\n",
        "\n",
        "\n",
        "\n",
        "| Tipo              | Nombre                                                  |\n",
        "|------------------------|-------------------------------------------------------|\n",
        "| Texto                   | str                                        |\n",
        "| Números       | integers(int), floats(float), complejos(complex) |\n",
        "| Secuencias                 | listas(list) ,tuplas (tuple), rango(range)                             |\n",
        "| Mapeo | diccionarios (dict)                                  |\n",
        "| Conjuntos                  | conjuntos(set), frozenset                                          |\n",
        "| Booleans                   | bool                                        |\n",
        "| Binarios                   | bytes, bytearray, memoryview                                        |\n",
        "\n",
        "Esta clase pondrá énfasis en los más básicos.\n"
      ]
    },
    {
      "cell_type": "markdown",
      "metadata": {
        "id": "7pI_B3wGVh6E"
      },
      "source": [
        "### Números (Integers y floats)"
      ]
    },
    {
      "cell_type": "code",
      "execution_count": 8,
      "metadata": {
        "id": "5xtFhhwJVh6E",
        "outputId": "8168ba96-9a77-4817-92ec-412ad4ee05f4",
        "colab": {
          "base_uri": "https://localhost:8080/"
        }
      },
      "outputs": [
        {
          "output_type": "execute_result",
          "data": {
            "text/plain": [
              "int"
            ]
          },
          "metadata": {},
          "execution_count": 8
        }
      ],
      "source": [
        "num = 20 # enteros\n",
        "type(num)"
      ]
    },
    {
      "cell_type": "code",
      "execution_count": 9,
      "metadata": {
        "id": "ZglvIL4UVh6E",
        "outputId": "4db4f1f8-5f84-4ff8-abb0-2b7afd65ead6",
        "colab": {
          "base_uri": "https://localhost:8080/"
        }
      },
      "outputs": [
        {
          "output_type": "execute_result",
          "data": {
            "text/plain": [
              "float"
            ]
          },
          "metadata": {},
          "execution_count": 9
        }
      ],
      "source": [
        "num = 20.1 # decimales\n",
        "type(num)"
      ]
    },
    {
      "cell_type": "markdown",
      "metadata": {
        "id": "zat8HeIGVh6E"
      },
      "source": [
        "Los integers almacenan el número exacto asignado.\n",
        "En cambio, los floats almacenan una aproximación de ese número, llamado _punto flotante_ (Revisar teoria de este tema). La diferencia entre ambos es la parte decimal."
      ]
    },
    {
      "cell_type": "code",
      "execution_count": 26,
      "metadata": {
        "id": "945oXRkNVh6E",
        "outputId": "b92715cb-d87f-47d4-d4c2-6d09694a8bff",
        "colab": {
          "base_uri": "https://localhost:8080/"
        }
      },
      "outputs": [
        {
          "output_type": "execute_result",
          "data": {
            "text/plain": [
              "float"
            ]
          },
          "metadata": {},
          "execution_count": 26
        }
      ],
      "source": [
        "num = 20.0\n",
        "type(num)"
      ]
    },
    {
      "cell_type": "markdown",
      "metadata": {
        "id": "euOS3kL4Vh6F"
      },
      "source": [
        "**OJO: Python tiene palabras reservadas**. No llamar a una variable como un tipo de dato _int_, _str_, _float_. Estos son ejemplos de palabras reservadas en Python que no se deben utilizar como nombres."
      ]
    },
    {
      "cell_type": "code",
      "execution_count": 11,
      "metadata": {
        "id": "cZijkpPZVh6F",
        "outputId": "03f63345-0c81-4745-e86c-6e5aad976dbf",
        "colab": {
          "base_uri": "https://localhost:8080/"
        }
      },
      "outputs": [
        {
          "output_type": "stream",
          "name": "stdout",
          "text": [
            "['False', 'None', 'True', 'and', 'as', 'assert', 'async', 'await', 'break', 'class', 'continue', 'def', 'del', 'elif', 'else', 'except', 'finally', 'for', 'from', 'global', 'if', 'import', 'in', 'is', 'lambda', 'nonlocal', 'not', 'or', 'pass', 'raise', 'return', 'try', 'while', 'with', 'yield']\n"
          ]
        }
      ],
      "source": [
        "import keyword # Paquetería para identificar palabras reservadas\n",
        "print(keyword.kwlist) # Comandos de sintaxis para no utilizar en Python:"
      ]
    },
    {
      "cell_type": "code",
      "execution_count": 12,
      "metadata": {
        "id": "DUI091V6Vh6F",
        "outputId": "59c6c73e-d3e0-4846-8d29-ccf60a69575a",
        "colab": {
          "base_uri": "https://localhost:8080/"
        }
      },
      "outputs": [
        {
          "output_type": "execute_result",
          "data": {
            "text/plain": [
              "['ArithmeticError',\n",
              " 'AssertionError',\n",
              " 'AttributeError',\n",
              " 'BaseException',\n",
              " 'BlockingIOError',\n",
              " 'BrokenPipeError',\n",
              " 'BufferError',\n",
              " 'BytesWarning',\n",
              " 'ChildProcessError',\n",
              " 'ConnectionAbortedError',\n",
              " 'ConnectionError',\n",
              " 'ConnectionRefusedError',\n",
              " 'ConnectionResetError',\n",
              " 'DeprecationWarning',\n",
              " 'EOFError',\n",
              " 'Ellipsis',\n",
              " 'EncodingWarning',\n",
              " 'EnvironmentError',\n",
              " 'Exception',\n",
              " 'False',\n",
              " 'FileExistsError',\n",
              " 'FileNotFoundError',\n",
              " 'FloatingPointError',\n",
              " 'FutureWarning',\n",
              " 'GeneratorExit',\n",
              " 'IOError',\n",
              " 'ImportError',\n",
              " 'ImportWarning',\n",
              " 'IndentationError',\n",
              " 'IndexError',\n",
              " 'InterruptedError',\n",
              " 'IsADirectoryError',\n",
              " 'KeyError',\n",
              " 'KeyboardInterrupt',\n",
              " 'LookupError',\n",
              " 'MemoryError',\n",
              " 'ModuleNotFoundError',\n",
              " 'NameError',\n",
              " 'None',\n",
              " 'NotADirectoryError',\n",
              " 'NotImplemented',\n",
              " 'NotImplementedError',\n",
              " 'OSError',\n",
              " 'OverflowError',\n",
              " 'PendingDeprecationWarning',\n",
              " 'PermissionError',\n",
              " 'ProcessLookupError',\n",
              " 'RecursionError',\n",
              " 'ReferenceError',\n",
              " 'ResourceWarning',\n",
              " 'RuntimeError',\n",
              " 'RuntimeWarning',\n",
              " 'StopAsyncIteration',\n",
              " 'StopIteration',\n",
              " 'SyntaxError',\n",
              " 'SyntaxWarning',\n",
              " 'SystemError',\n",
              " 'SystemExit',\n",
              " 'TabError',\n",
              " 'TimeoutError',\n",
              " 'True',\n",
              " 'TypeError',\n",
              " 'UnboundLocalError',\n",
              " 'UnicodeDecodeError',\n",
              " 'UnicodeEncodeError',\n",
              " 'UnicodeError',\n",
              " 'UnicodeTranslateError',\n",
              " 'UnicodeWarning',\n",
              " 'UserWarning',\n",
              " 'ValueError',\n",
              " 'Warning',\n",
              " 'ZeroDivisionError',\n",
              " '__IPYTHON__',\n",
              " '__build_class__',\n",
              " '__debug__',\n",
              " '__doc__',\n",
              " '__import__',\n",
              " '__loader__',\n",
              " '__name__',\n",
              " '__package__',\n",
              " '__spec__',\n",
              " 'abs',\n",
              " 'aiter',\n",
              " 'all',\n",
              " 'anext',\n",
              " 'any',\n",
              " 'ascii',\n",
              " 'bin',\n",
              " 'bool',\n",
              " 'breakpoint',\n",
              " 'bytearray',\n",
              " 'bytes',\n",
              " 'callable',\n",
              " 'chr',\n",
              " 'classmethod',\n",
              " 'compile',\n",
              " 'complex',\n",
              " 'copyright',\n",
              " 'credits',\n",
              " 'delattr',\n",
              " 'dict',\n",
              " 'dir',\n",
              " 'display',\n",
              " 'divmod',\n",
              " 'enumerate',\n",
              " 'eval',\n",
              " 'exec',\n",
              " 'execfile',\n",
              " 'filter',\n",
              " 'float',\n",
              " 'format',\n",
              " 'frozenset',\n",
              " 'get_ipython',\n",
              " 'getattr',\n",
              " 'globals',\n",
              " 'hasattr',\n",
              " 'hash',\n",
              " 'help',\n",
              " 'hex',\n",
              " 'id',\n",
              " 'input',\n",
              " 'int',\n",
              " 'isinstance',\n",
              " 'issubclass',\n",
              " 'iter',\n",
              " 'len',\n",
              " 'license',\n",
              " 'list',\n",
              " 'locals',\n",
              " 'map',\n",
              " 'max',\n",
              " 'memoryview',\n",
              " 'min',\n",
              " 'next',\n",
              " 'object',\n",
              " 'oct',\n",
              " 'open',\n",
              " 'ord',\n",
              " 'pow',\n",
              " 'print',\n",
              " 'property',\n",
              " 'range',\n",
              " 'repr',\n",
              " 'reversed',\n",
              " 'round',\n",
              " 'runfile',\n",
              " 'set',\n",
              " 'setattr',\n",
              " 'slice',\n",
              " 'sorted',\n",
              " 'staticmethod',\n",
              " 'str',\n",
              " 'sum',\n",
              " 'super',\n",
              " 'tuple',\n",
              " 'type',\n",
              " 'vars',\n",
              " 'zip']"
            ]
          },
          "metadata": {},
          "execution_count": 12
        }
      ],
      "source": [
        "import builtins # Otro paquete para identificar palabras reservadas\n",
        "#dir(builtins)"
      ]
    },
    {
      "cell_type": "markdown",
      "metadata": {
        "id": "_SMI1SvaVh6F"
      },
      "source": [
        "OJO: Tener precaución al hacer que un programa dependa de un _float_, por ejemplo:"
      ]
    },
    {
      "cell_type": "code",
      "execution_count": 38,
      "metadata": {
        "id": "5M9Yu4KcVh6F",
        "outputId": "fb0967ee-529a-45d4-9972-00a57313d5e8",
        "colab": {
          "base_uri": "https://localhost:8080/"
        }
      },
      "outputs": [
        {
          "output_type": "stream",
          "name": "stdout",
          "text": [
            "3.141592653589793\n",
            "True si es que pi_exacto == pi manual\n",
            "False si es que pi_exacto == pi aproximado\n",
            "3.141592653589  no es pi de math!\n"
          ]
        }
      ],
      "source": [
        "import math # Libreria matematica\n",
        "\n",
        "b = math.pi # 3.141592653589793 # De Math `math.pi`\n",
        "print(b)\n",
        "\n",
        "pi_manual = 3.141592653589793 # De Math `math.pi`\n",
        "pi_aprox = 3.141592653589 #\n",
        "\n",
        "print(math.pi == pi_manual, \"si es que pi_exacto == pi manual\")\n",
        "print(math.pi == pi_aprox, \"si es que pi_exacto == pi aproximado\")\n",
        "\n",
        "if pi_aprox == math.pi:\n",
        "    print(pi_aprox,\" sí es pi!\")\n",
        "else:\n",
        "    print(pi_aprox,\" no es pi de math!\")\n",
        "\n",
        "# En suma, ambos representa a pi (aproximadamente), pero no debemos confiar.\n",
        "# El programa suele ser muy rigido con los valores:"
      ]
    },
    {
      "cell_type": "code",
      "execution_count": 36,
      "metadata": {
        "id": "3V22hRHwVh6F",
        "outputId": "89f38e33-450b-453e-e71a-71f866677cd0",
        "colab": {
          "base_uri": "https://localhost:8080/"
        }
      },
      "outputs": [
        {
          "output_type": "execute_result",
          "data": {
            "text/plain": [
              "3.141592653589793"
            ]
          },
          "metadata": {},
          "execution_count": 36
        }
      ],
      "source": [
        "math.pi"
      ]
    },
    {
      "cell_type": "markdown",
      "metadata": {
        "id": "0iNg5gVpVh6F"
      },
      "source": [
        "### Strings"
      ]
    },
    {
      "cell_type": "markdown",
      "metadata": {
        "id": "G8x5TrmGVh6F"
      },
      "source": [
        "Pedazos de textos...\n",
        "Hay diferentes formas de crear strings, por ejemplo:"
      ]
    },
    {
      "cell_type": "code",
      "execution_count": 39,
      "metadata": {
        "id": "6OO6Q225Vh6G",
        "outputId": "a23cf91d-0c43-493c-89fc-6f509a65e4ac",
        "colab": {
          "base_uri": "https://localhost:8080/"
        }
      },
      "outputs": [
        {
          "output_type": "stream",
          "name": "stdout",
          "text": [
            "Aquí uso dos apóstrofes\n"
          ]
        }
      ],
      "source": [
        "mensaje = \"Aquí uso dos apóstrofes\" # Con comillas\n",
        "print(mensaje)"
      ]
    },
    {
      "cell_type": "code",
      "execution_count": 16,
      "metadata": {
        "id": "j-6rqrYbVh6G",
        "outputId": "2d8b04aa-0d32-44b4-bb81-7e546de86a14",
        "colab": {
          "base_uri": "https://localhost:8080/"
        }
      },
      "outputs": [
        {
          "output_type": "stream",
          "name": "stdout",
          "text": [
            "Aquí uso un apóstrofe\n"
          ]
        }
      ],
      "source": [
        "mensaje = 'Aquí uso un apóstrofe' # Con un apostrofes\n",
        "print(mensaje)\n",
        "# Nota, aquí se sobreescribe al anterior"
      ]
    },
    {
      "cell_type": "code",
      "execution_count": 17,
      "metadata": {
        "id": "8wgadmhLVh6G",
        "outputId": "e5a54aa6-be84-42c8-b0d7-491f81049886",
        "colab": {
          "base_uri": "https://localhost:8080/"
        }
      },
      "outputs": [
        {
          "output_type": "stream",
          "name": "stdout",
          "text": [
            "¿Es un imperio\n",
            "esa luz que se apaga\n",
            "o una luciérnaga?\n"
          ]
        }
      ],
      "source": [
        "# Escribir en varias lineas con 3 apostrofes:\n",
        "haiku = '''¿Es un imperio\n",
        "esa luz que se apaga\n",
        "o una luciérnaga?'''\n",
        "print(haiku)"
      ]
    },
    {
      "cell_type": "code",
      "execution_count": 40,
      "metadata": {
        "id": "YcAUYrB6Vh6G",
        "outputId": "02980fab-678f-4112-cf43-79cb19cbb131",
        "colab": {
          "base_uri": "https://localhost:8080/"
        }
      },
      "outputs": [
        {
          "output_type": "stream",
          "name": "stdout",
          "text": [
            "Al Fuji subes\n",
            "despacio —pero subes, \n",
            "caracolito.\n"
          ]
        }
      ],
      "source": [
        "# Del mismo modo con 3 apostrofes dobles para escribir en varias lineas:\n",
        "haiku2 = \"\"\"Al Fuji subes\n",
        "despacio —pero subes,\n",
        "caracolito.\"\"\"\n",
        "print(haiku2)"
      ]
    },
    {
      "cell_type": "code",
      "source": [
        "# Ambos son detectados igual:\n",
        "haiku + haiku2 # \\n <- Salto de linea"
      ],
      "metadata": {
        "id": "mOOdI2kwoY1k",
        "outputId": "5033db41-1ea0-49ae-e8ce-3dfb3b7fd6d3",
        "colab": {
          "base_uri": "https://localhost:8080/",
          "height": 35
        }
      },
      "execution_count": 41,
      "outputs": [
        {
          "output_type": "execute_result",
          "data": {
            "text/plain": [
              "'Al Fuji subes\\ndespacio —pero subes,\\ncaracolito.Al Fuji subes\\ndespacio —pero subes, \\ncaracolito.'"
            ],
            "application/vnd.google.colaboratory.intrinsic+json": {
              "type": "string"
            }
          },
          "metadata": {},
          "execution_count": 41
        }
      ]
    },
    {
      "cell_type": "markdown",
      "metadata": {
        "id": "2zAGQaXKVh6G"
      },
      "source": [
        "### Booleans"
      ]
    },
    {
      "cell_type": "markdown",
      "metadata": {
        "id": "ijO_3Gt_Vh6G"
      },
      "source": [
        "Los booleans son variables que simplemente indican Verdadero (True) o Falso (False)"
      ]
    },
    {
      "cell_type": "code",
      "execution_count": 42,
      "metadata": {
        "id": "gX3_jxsNVh6G"
      },
      "outputs": [],
      "source": [
        "la_true = True # Por default evaludado con valor 1\n",
        "la_fols = False # 0"
      ]
    },
    {
      "cell_type": "code",
      "execution_count": 43,
      "metadata": {
        "id": "vUy4d-QmVh6K",
        "outputId": "21da5dc3-cde6-4643-a411-8df3f594a874",
        "colab": {
          "base_uri": "https://localhost:8080/"
        }
      },
      "outputs": [
        {
          "output_type": "stream",
          "name": "stdout",
          "text": [
            "True\n",
            "False\n"
          ]
        }
      ],
      "source": [
        "print(la_true) # 1\n",
        "print(la_fols) # 0"
      ]
    },
    {
      "cell_type": "markdown",
      "metadata": {
        "id": "dlrj1wV3Vh6K"
      },
      "source": [
        "Los booleans se evalúan como 1 (True) y 0 (False), por ello:"
      ]
    },
    {
      "cell_type": "code",
      "execution_count": 21,
      "metadata": {
        "id": "scK8WtQEVh6L",
        "outputId": "87662d79-b617-44bf-e817-af69f90c06b2",
        "colab": {
          "base_uri": "https://localhost:8080/"
        }
      },
      "outputs": [
        {
          "output_type": "execute_result",
          "data": {
            "text/plain": [
              "True"
            ]
          },
          "metadata": {},
          "execution_count": 21
        }
      ],
      "source": [
        "la_true > la_fols"
      ]
    },
    {
      "cell_type": "code",
      "source": [
        "la_true + la_true # True + True = 2"
      ],
      "metadata": {
        "id": "-cp1axvBppWU",
        "outputId": "e4b944f7-f300-415f-e7a3-7970faf2ac94",
        "colab": {
          "base_uri": "https://localhost:8080/"
        }
      },
      "execution_count": 44,
      "outputs": [
        {
          "output_type": "execute_result",
          "data": {
            "text/plain": [
              "2"
            ]
          },
          "metadata": {},
          "execution_count": 44
        }
      ]
    },
    {
      "cell_type": "markdown",
      "metadata": {
        "id": "a_PrdXxwVh6L"
      },
      "source": [
        "### el valor `None`"
      ]
    },
    {
      "cell_type": "markdown",
      "metadata": {
        "id": "IyEMSL9EVh6L"
      },
      "source": [
        "Este es un valor especial que se usa cuando queremos definir una variable que aún no tiene un valor, y que usualmente será actualizada luego. Es como una variable vacía"
      ]
    },
    {
      "cell_type": "code",
      "execution_count": 45,
      "metadata": {
        "id": "-f-0ZgaZVh6L",
        "outputId": "c41e6136-4559-4e4f-b147-cd17d6f567b9",
        "colab": {
          "base_uri": "https://localhost:8080/"
        }
      },
      "outputs": [
        {
          "output_type": "stream",
          "name": "stdout",
          "text": [
            "True\n"
          ]
        }
      ],
      "source": [
        "# Utilizamos para crear una nueva operacion:\n",
        "almuerzo  = None\n",
        "if almuerzo is None:\n",
        "    comer_almuerzo = True\n",
        "print(comer_almuerzo)"
      ]
    },
    {
      "cell_type": "code",
      "execution_count": 47,
      "metadata": {
        "id": "POCdNHFRVh6L",
        "outputId": "aa218002-f6ab-4167-9cfc-0f67fa214e5f",
        "colab": {
          "base_uri": "https://localhost:8080/"
        }
      },
      "outputs": [
        {
          "output_type": "stream",
          "name": "stdout",
          "text": [
            "1\n"
          ]
        }
      ],
      "source": [
        "# Ahora le asignamos un valor 1:\n",
        "almuerzo = None\n",
        "if almuerzo == None:\n",
        "    almuerzo = 1\n",
        "print(almuerzo)"
      ]
    },
    {
      "cell_type": "markdown",
      "metadata": {
        "id": "eKOTBwxUVh6L"
      },
      "source": [
        "#### Consideraciones a tener en cuenta\n",
        "\n",
        "1) **Python es sensible a mayúsculas y minúsculas**, tengan esto en cuenta cuando nombren a sus variables"
      ]
    },
    {
      "cell_type": "code",
      "execution_count": 24,
      "metadata": {
        "id": "OyYSiGrCVh6L",
        "outputId": "1d15c25b-ec0b-48c0-f2be-c895cdc2d6fe",
        "colab": {
          "base_uri": "https://localhost:8080/"
        }
      },
      "outputs": [
        {
          "output_type": "stream",
          "name": "stdout",
          "text": [
            "72\n"
          ]
        }
      ],
      "source": [
        "ab = 12\n",
        "AB = 24\n",
        "Ab = 36\n",
        "print(ab + AB + Ab)"
      ]
    },
    {
      "cell_type": "markdown",
      "metadata": {
        "id": "ksBKHHBqVh6L"
      },
      "source": [
        "2) Hay convenciones para nombrar variables en python. **Nosotros usaremos el snake case**, o el _minusculas_con_guion_bajo_.      \n",
        "\n",
        "Este es el default para nombrar variables en python.  \n",
        "\n",
        "(Por ejemplo hay otras, como el CamelCase, que es primera letra mayúscula y sin espacios)."
      ]
    },
    {
      "cell_type": "code",
      "source": [
        "una_variable = 1 # snake_case\n",
        "otra_variable = 2 # snake_case\n",
        "UnaVariable = 3 # CamelCase"
      ],
      "metadata": {
        "id": "wnufaF9_qoj9"
      },
      "execution_count": null,
      "outputs": []
    },
    {
      "cell_type": "markdown",
      "metadata": {
        "id": "-7d4sIRmVh6M"
      },
      "source": [
        "#### 3) Dynamic Typing\n",
        "\n",
        "El lenguaje python es lo que se conoce como tipeado dinámicamente. Es decir, cuando creamos una variable, no hace falta definir de qué tipo es ya que Python _adivina_ a qué tipo corresponde la variable. Asimismo, cuando reemplazamos la variable por otra, este reemplazo puede ser _de otro tipo_.\n",
        "\n",
        "Esto es bueno pero puede crear inconvenientes:\n",
        "\n"
      ]
    },
    {
      "cell_type": "code",
      "execution_count": 48,
      "metadata": {
        "id": "Wq5XdjvtVh6M",
        "outputId": "034fb115-7302-4f49-d62c-5de6abac01be",
        "colab": {
          "base_uri": "https://localhost:8080/",
          "height": 245
        }
      },
      "outputs": [
        {
          "output_type": "stream",
          "name": "stdout",
          "text": [
            "num_c: 35\n"
          ]
        },
        {
          "output_type": "error",
          "ename": "TypeError",
          "evalue": "ignored",
          "traceback": [
            "\u001b[0;31m---------------------------------------------------------------------------\u001b[0m",
            "\u001b[0;31mTypeError\u001b[0m                                 Traceback (most recent call last)",
            "\u001b[0;32m<ipython-input-48-f4a9a12c73a1>\u001b[0m in \u001b[0;36m<cell line: 10>\u001b[0;34m()\u001b[0m\n\u001b[1;32m      8\u001b[0m \u001b[0mnum_a\u001b[0m \u001b[0;34m=\u001b[0m \u001b[0;34m\"ah\"\u001b[0m  \u001b[0;31m# Volví a definir num_a, cambié el tipo (strig) y sale error\u001b[0m\u001b[0;34m\u001b[0m\u001b[0;34m\u001b[0m\u001b[0m\n\u001b[1;32m      9\u001b[0m \u001b[0;31m# Ya que las variables deben ser del mismo tipo para la operacion\u001b[0m\u001b[0;34m\u001b[0m\u001b[0;34m\u001b[0m\u001b[0m\n\u001b[0;32m---> 10\u001b[0;31m \u001b[0mnum_d\u001b[0m \u001b[0;34m=\u001b[0m \u001b[0mnum_a\u001b[0m \u001b[0;34m+\u001b[0m \u001b[0mnum_b\u001b[0m\u001b[0;34m\u001b[0m\u001b[0;34m\u001b[0m\u001b[0m\n\u001b[0m\u001b[1;32m     11\u001b[0m \u001b[0mprint\u001b[0m\u001b[0;34m(\u001b[0m\u001b[0mnum_d\u001b[0m\u001b[0;34m)\u001b[0m\u001b[0;34m\u001b[0m\u001b[0;34m\u001b[0m\u001b[0m\n",
            "\u001b[0;31mTypeError\u001b[0m: can only concatenate str (not \"int\") to str"
          ]
        }
      ],
      "source": [
        "num_a = 15 # inter\n",
        "num_b = 20 # inter\n",
        "\n",
        "num_c = num_a + num_b # inter\n",
        "\n",
        "print(\"num_c:\", num_c)\n",
        "\n",
        "num_a = \"ah\"  # Volví a definir num_a, cambié el tipo (strig) y sale error\n",
        "# Ya que las variables deben ser del mismo tipo para la operacion\n",
        "num_d = num_a + num_b\n",
        "print(num_d)"
      ]
    },
    {
      "cell_type": "code",
      "source": [
        "# Nota:\n",
        "var = 1 # = <- Igual sirve para asignar un valor.\n",
        "var2 = 1\n",
        "# == <- Sirve para comprobar que los valores a los extremos sean iguales\n",
        "var == var2 # Sale un booleano"
      ],
      "metadata": {
        "id": "UwG1vgP-sKbu",
        "outputId": "6ec57501-bf12-4fb0-d9bc-48822fdf9c2b",
        "colab": {
          "base_uri": "https://localhost:8080/"
        }
      },
      "execution_count": 52,
      "outputs": [
        {
          "output_type": "execute_result",
          "data": {
            "text/plain": [
              "True"
            ]
          },
          "metadata": {},
          "execution_count": 52
        }
      ]
    },
    {
      "cell_type": "markdown",
      "metadata": {
        "id": "bgOmbUzxVh6M"
      },
      "source": [
        "4) Los strings vienen con métodos adicionales. Por ejemplo los strings vienen con métodos para volverlos mayúscula."
      ]
    },
    {
      "cell_type": "code",
      "execution_count": 67,
      "metadata": {
        "id": "POTBeq_hVh6M",
        "outputId": "ba468cad-2493-47da-9207-4f88e95729b5",
        "colab": {
          "base_uri": "https://localhost:8080/",
          "height": 35
        }
      },
      "outputs": [
        {
          "output_type": "execute_result",
          "data": {
            "text/plain": [
              "'BUENOS DÍAS CON TODAS Y TODOS'"
            ],
            "application/vnd.google.colaboratory.intrinsic+json": {
              "type": "string"
            }
          },
          "metadata": {},
          "execution_count": 67
        }
      ],
      "source": [
        "bienvenida = \"Buenos días con todas y todos\"\n",
        "bienvenida.upper() # `.upper()` para convertir todo en mayuscula\n",
        "# Nota: () <- (self) llamar implicitimanete al comando upper"
      ]
    },
    {
      "cell_type": "code",
      "source": [
        "# Solo una parte en mayuscula:\n",
        "bienvenida2 = bienvenida.upper()[:5]\n",
        "bienvenida2"
      ],
      "metadata": {
        "id": "Y4E61id9wlm1",
        "outputId": "f08f0158-4b81-424c-b097-29971c32c0b9",
        "colab": {
          "base_uri": "https://localhost:8080/",
          "height": 35
        }
      },
      "execution_count": 69,
      "outputs": [
        {
          "output_type": "execute_result",
          "data": {
            "text/plain": [
              "'BUENO'"
            ],
            "application/vnd.google.colaboratory.intrinsic+json": {
              "type": "string"
            }
          },
          "metadata": {},
          "execution_count": 69
        }
      ]
    },
    {
      "cell_type": "markdown",
      "metadata": {
        "id": "hWJAdhvnVh6M"
      },
      "source": [
        "[Volver a inicio](#principio)"
      ]
    },
    {
      "cell_type": "markdown",
      "metadata": {
        "id": "vnIF8fOpVh6M"
      },
      "source": [
        "En general, los _strings_ vendrán con estos _métodos_ adicionales con los que valen la pena familarizarse"
      ]
    },
    {
      "cell_type": "markdown",
      "metadata": {
        "id": "sAO_EzLkVh6M"
      },
      "source": [
        "<a class=\"anchor\" id=\"operadores\"></a>\n",
        "\n",
        "## 3. Operadores"
      ]
    },
    {
      "cell_type": "markdown",
      "metadata": {
        "id": "SQ7FdZW-Vh6M"
      },
      "source": [
        "Los operadores nos permitirán hacer justo eso: Operaciones!. Vamos a ver los más importantes:"
      ]
    },
    {
      "cell_type": "markdown",
      "metadata": {
        "id": "3Z06AQMbVh6N"
      },
      "source": [
        "### Operadores aritméticos"
      ]
    },
    {
      "cell_type": "code",
      "execution_count": null,
      "metadata": {
        "id": "wbfiQ5MMVh6N"
      },
      "outputs": [],
      "source": [
        "# Suma\n",
        "a = 4 + 5 + 1000000000000000\n",
        "a"
      ]
    },
    {
      "cell_type": "code",
      "execution_count": null,
      "metadata": {
        "id": "Wh-0M2X8Vh6N"
      },
      "outputs": [],
      "source": [
        "# Resta\n",
        "20 - 21"
      ]
    },
    {
      "cell_type": "code",
      "execution_count": null,
      "metadata": {
        "id": "-k1L60iMVh6N"
      },
      "outputs": [],
      "source": [
        "# Multiplicación\n",
        "4*5*686858483"
      ]
    },
    {
      "cell_type": "code",
      "execution_count": null,
      "metadata": {
        "id": "nqoL7q6CVh6N"
      },
      "outputs": [],
      "source": [
        "# División\n",
        "50/5"
      ]
    },
    {
      "cell_type": "code",
      "execution_count": null,
      "metadata": {
        "id": "IeX8GorSVh6N"
      },
      "outputs": [],
      "source": [
        "# Exponencial\n",
        "2**3"
      ]
    },
    {
      "cell_type": "code",
      "execution_count": null,
      "metadata": {
        "id": "4wRJWzhfVh6N"
      },
      "outputs": [],
      "source": [
        "# Piso (la parte entera de la división)\n",
        "250 // 6"
      ]
    },
    {
      "cell_type": "code",
      "execution_count": null,
      "metadata": {
        "id": "9hF4I-udVh6N"
      },
      "outputs": [],
      "source": [
        "# Módulo (el residuo de la división)\n",
        "250 % 6"
      ]
    },
    {
      "cell_type": "code",
      "execution_count": null,
      "metadata": {
        "id": "jvGafz7pVh6O"
      },
      "outputs": [],
      "source": [
        "11 % 2"
      ]
    },
    {
      "cell_type": "markdown",
      "metadata": {
        "id": "cAmohyABVh6O"
      },
      "source": [
        "Python puede mezclar estos operadores!\n"
      ]
    },
    {
      "cell_type": "code",
      "execution_count": null,
      "metadata": {
        "id": "8TYzlVpTVh6O"
      },
      "outputs": [],
      "source": [
        "1 + 5 + 7 / 6 **2 + 250 % 8"
      ]
    },
    {
      "cell_type": "markdown",
      "metadata": {
        "id": "Vra36DSJVh6O"
      },
      "source": [
        "Sin embargo, ten en cuenta que existe un orden de evaluación de estos operadores, que corresponden a las reglas matemáticas convencionales. El orden en el que los operadores serán evaluados son:"
      ]
    },
    {
      "cell_type": "markdown",
      "metadata": {
        "id": "EBNiUmzFVh6O"
      },
      "source": [
        "| Operador              | Nombre                                                  |\n",
        "|------------------------|-------------------------------------------------------|\n",
        "| `**`                   | Exponencial                                        |\n",
        "| `*, /, //, %, @`       | multiplicación, división, piso, módulo, at |\n",
        "| `+, -`                 | más, menos                            |\n",
        "| `<, <=, >, >=, !=, ==` | Operadores de comparación                                  |\n",
        "| `not`                   | Booleano NOT                                        |\n",
        "| `and`                   | Booleano AND                                        |\n",
        "| `or`                   | Booleano OR                                        |\n"
      ]
    },
    {
      "cell_type": "markdown",
      "metadata": {
        "id": "4Ysqidw2Vh6O"
      },
      "source": [
        "Esto hace variar la prioridad del operador. La forma como \"rompemos\" esta prioridad es utilizando paréntesis (). En el ejemplo anterior:  "
      ]
    },
    {
      "cell_type": "code",
      "execution_count": null,
      "metadata": {
        "id": "pTevumHoVh6O"
      },
      "outputs": [],
      "source": [
        "(1 + 5 + 7) / 6 **2 + 250 % 8"
      ]
    },
    {
      "cell_type": "code",
      "execution_count": null,
      "metadata": {
        "id": "DdCQ26BXVh6O"
      },
      "outputs": [],
      "source": [
        "(1 + 5 + 7) / 6 **(2 + 250) % 8"
      ]
    },
    {
      "cell_type": "code",
      "execution_count": null,
      "metadata": {
        "id": "V_XIvycfVh6P"
      },
      "outputs": [],
      "source": [
        "1 + ((5 + 7) / 6 **2) + (250 % 8)"
      ]
    },
    {
      "cell_type": "markdown",
      "metadata": {
        "id": "sHGnUvu8Vh6P"
      },
      "source": [
        "### Operadores de comparación\n",
        "\n",
        "Los siguientes operadores realizan comparaciones entre valores/variables\n",
        "\n",
        "* `>`     Mayor que\n",
        "* `<`     Menor que\n",
        "* `>=`  Mayor o igual que\n",
        "* `<=`  Menor o igual que\n",
        "* `==`  Igual a\n",
        "* `!=`  No igual a\n",
        "\n",
        "Cuando se comparan estos valores, el resultado será True o False."
      ]
    },
    {
      "cell_type": "code",
      "execution_count": null,
      "metadata": {
        "id": "y6xEwKfGVh6P"
      },
      "outputs": [],
      "source": [
        "10 > 12"
      ]
    },
    {
      "cell_type": "code",
      "execution_count": null,
      "metadata": {
        "id": "bKoMOg8QVh6P"
      },
      "outputs": [],
      "source": [
        "1 < 4"
      ]
    },
    {
      "cell_type": "code",
      "execution_count": null,
      "metadata": {
        "id": "OLvXieZjVh6P"
      },
      "outputs": [],
      "source": [
        "10 >= 10"
      ]
    },
    {
      "cell_type": "code",
      "execution_count": null,
      "metadata": {
        "id": "XD4sMSxzVh6P"
      },
      "outputs": [],
      "source": [
        "10 == 10"
      ]
    },
    {
      "cell_type": "code",
      "execution_count": null,
      "metadata": {
        "id": "93RJp4UyVh6P"
      },
      "outputs": [],
      "source": [
        "3.14 == 3.1416"
      ]
    },
    {
      "cell_type": "markdown",
      "metadata": {
        "id": "vwysHmu2Vh6P"
      },
      "source": [
        "Los operadores aritméticos y de comparación se pueden mezclar!"
      ]
    },
    {
      "cell_type": "code",
      "execution_count": null,
      "metadata": {
        "id": "S_FSFs98Vh6Q"
      },
      "outputs": [],
      "source": [
        "5 * 6 > 3 **2 - 1"
      ]
    },
    {
      "cell_type": "markdown",
      "metadata": {
        "id": "HOPGZDIKVh6Q"
      },
      "source": [
        "### Operadores lógicos/ booleanos\n",
        "\n",
        "Python usa los siguientes 3 operadores booleanos:\n",
        "* `and`\n",
        "* `or`\n",
        "* `not`\n",
        "\n",
        "Estos operadores evalúan dos expresiones que tienen que devolver True o False"
      ]
    },
    {
      "cell_type": "code",
      "execution_count": null,
      "metadata": {
        "id": "B8HlFOqJVh6Q"
      },
      "outputs": [],
      "source": [
        "(5 > 4) and (8 > 6)"
      ]
    },
    {
      "cell_type": "code",
      "execution_count": null,
      "metadata": {
        "id": "Yh20Gux1Vh6Q"
      },
      "outputs": [],
      "source": [
        "(8 * 5) < 64 and (10 < 7)"
      ]
    },
    {
      "cell_type": "code",
      "execution_count": null,
      "metadata": {
        "id": "13KdU8RrVh6Q"
      },
      "outputs": [],
      "source": [
        "(5 > 4) or (8 < 6)"
      ]
    },
    {
      "cell_type": "code",
      "execution_count": null,
      "metadata": {
        "id": "ugLMjRYrVh6Q"
      },
      "outputs": [],
      "source": [
        "not (8 < 6)"
      ]
    },
    {
      "cell_type": "markdown",
      "metadata": {
        "id": "VTc9W_fNVh6Q"
      },
      "source": [
        "### Operadores de asignación aumentada\n",
        "\n",
        "Estos operadores se vale del `=` y los operadores aritméticos para reasignar un valor, en base a un valor base. Estos son:\n",
        "\n",
        "- `+=`\n",
        "- `-=`\n",
        "- `*=`\n",
        "- `/=`\n",
        "- `//=`\n",
        "- `%=`\n",
        "- `**=`  \n",
        "\n",
        "Veremos cómo funcionan"
      ]
    },
    {
      "cell_type": "code",
      "execution_count": null,
      "metadata": {
        "id": "DKH20xOGVh6Q"
      },
      "outputs": [],
      "source": [
        "x = 1"
      ]
    },
    {
      "cell_type": "code",
      "execution_count": null,
      "metadata": {
        "id": "6bRDTDNuVh6R"
      },
      "outputs": [],
      "source": [
        "x += 9\n",
        "x"
      ]
    },
    {
      "cell_type": "code",
      "execution_count": null,
      "metadata": {
        "id": "yfM6xu-YVh6R"
      },
      "outputs": [],
      "source": [
        "x -= 9\n",
        "x"
      ]
    },
    {
      "cell_type": "code",
      "execution_count": null,
      "metadata": {
        "id": "OM5iEZq-Vh6R"
      },
      "outputs": [],
      "source": [
        "x /= 0.2\n",
        "x"
      ]
    },
    {
      "cell_type": "code",
      "execution_count": null,
      "metadata": {
        "id": "mYi0iRjnVh6R"
      },
      "outputs": [],
      "source": [
        "x = x/0.2"
      ]
    },
    {
      "cell_type": "code",
      "execution_count": null,
      "metadata": {
        "id": "rWgKxFoJVh6R"
      },
      "outputs": [],
      "source": [
        "x //= 2\n",
        "x"
      ]
    },
    {
      "cell_type": "code",
      "execution_count": null,
      "metadata": {
        "id": "_QS0lIqhVh6R"
      },
      "outputs": [],
      "source": [
        "y  = 10\n",
        "y %= 3\n",
        "y"
      ]
    },
    {
      "cell_type": "code",
      "execution_count": null,
      "metadata": {
        "id": "ESU7_sT4Vh6R"
      },
      "outputs": [],
      "source": [
        "z = 2\n",
        "z **= 3\n",
        "z"
      ]
    },
    {
      "cell_type": "markdown",
      "metadata": {
        "id": "-7a1rOYQVh6R"
      },
      "source": [
        "[Volver a inicio](#principio)"
      ]
    },
    {
      "cell_type": "markdown",
      "metadata": {
        "id": "m6eIceTGVh6R"
      },
      "source": [
        "<a class=\"anchor\" id=\"expresiones\"></a>\n",
        "\n",
        "## 4. ¡Finalmente! : Expresiones\n",
        "\n",
        " Las expresiones se dan cuando combinamos las variables, los tipos y los operadores y las volvemos instrucciones. Estas instrucciones serán evaluadas por python para producir nuevos valores.\n",
        "\n",
        "\n",
        "Podemos usar los elementos que tenemos para armar reglas lógicas complejas.   \n",
        "Ejemplo: Criterios de elegibilidad de Cuna Más\n",
        "\n",
        "Los criterios de elegibilidad de Cuna Más son:\n",
        "\n"
      ]
    },
    {
      "cell_type": "markdown",
      "metadata": {
        "id": "MrwvCQLMVh6S"
      },
      "source": [
        "# Desde local: <img src=\"https://github.com/luccemhu/python_para_las_ccss/blob/main/Clase%202/img/focalizacion.png?raw=1\" width=\"1000\">\n",
        "![](https://raw.githubusercontent.com/luccemhu/python_para_las_ccss/main/Clase%202/img/focalizacion.png)  "
      ]
    },
    {
      "cell_type": "code",
      "execution_count": null,
      "metadata": {
        "id": "K9IIigGsVh6S"
      },
      "outputs": [],
      "source": [
        "#para distritos con centros  poblados rurales:\n",
        "UMBRAL_POBREZA = 50\n",
        "UMBRAL_RURAL = 50\n",
        "DESNUTRICION_CRONICA = 30\n",
        "\n",
        "#Definiendo un distrito\n",
        "pobreza = 20\n",
        "centros_rural = 60\n",
        "desnutricion_cronica = 35\n",
        "es_juntos = True\n",
        "rural = True ## Significa que es el area a evaluar es rural o no\n",
        "\n",
        "((pobreza >= UMBRAL_POBREZA) and (centros_rural >= UMBRAL_RURAL) and \\\n",
        "(desnutricion_cronica >= DESNUTRICION_CRONICA)  \\\n",
        "and es_juntos) and rural\n"
      ]
    },
    {
      "cell_type": "markdown",
      "metadata": {
        "id": "OE-PBLXrVh6S"
      },
      "source": [
        "### Cómo comentar tu código"
      ]
    },
    {
      "cell_type": "code",
      "execution_count": null,
      "metadata": {
        "id": "odXL1QRAVh6S"
      },
      "outputs": [],
      "source": [
        "a = 1 # Este es un comentario!\n",
        "\n",
        "# Todo lo que escribamos despues del michi será ignorado por el programa y tomado como comentario.\n"
      ]
    },
    {
      "cell_type": "markdown",
      "metadata": {
        "id": "d_x6lrCvVh6S"
      },
      "source": [
        "### Tip final\n",
        "SIEMPRE COMENTEN SU CODIGO PARA SABER QUE SUCEDE!\n"
      ]
    },
    {
      "cell_type": "markdown",
      "metadata": {
        "id": "8dhVTJ2VVh6S"
      },
      "source": [
        "[Volver a inicio](#principio)"
      ]
    },
    {
      "cell_type": "code",
      "execution_count": null,
      "metadata": {
        "id": "VKv5wTQhVh6S"
      },
      "outputs": [],
      "source": []
    }
  ],
  "metadata": {
    "kernelspec": {
      "display_name": "Python 3",
      "language": "python",
      "name": "python3"
    },
    "language_info": {
      "codemirror_mode": {
        "name": "ipython",
        "version": 3
      },
      "file_extension": ".py",
      "mimetype": "text/x-python",
      "name": "python",
      "nbconvert_exporter": "python",
      "pygments_lexer": "ipython3",
      "version": "3.8.5"
    },
    "colab": {
      "provenance": [],
      "include_colab_link": true
    }
  },
  "nbformat": 4,
  "nbformat_minor": 0
}