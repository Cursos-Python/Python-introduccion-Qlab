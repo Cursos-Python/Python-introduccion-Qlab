{
  "nbformat": 4,
  "nbformat_minor": 0,
  "metadata": {
    "colab": {
      "provenance": [],
      "include_colab_link": true
    },
    "kernelspec": {
      "name": "python3",
      "display_name": "Python 3"
    },
    "language_info": {
      "name": "python"
    }
  },
  "cells": [
    {
      "cell_type": "markdown",
      "metadata": {
        "id": "view-in-github",
        "colab_type": "text"
      },
      "source": [
        "<a href=\"https://colab.research.google.com/github/luccemhu/sesion-1/blob/main/S1b_notas_adicionales.ipynb\" target=\"_parent\"><img src=\"https://colab.research.google.com/assets/colab-badge.svg\" alt=\"Open In Colab\"/></a>"
      ]
    },
    {
      "cell_type": "markdown",
      "source": [
        "## Operadores"
      ],
      "metadata": {
        "id": "mqxSdFF0SEF3"
      }
    },
    {
      "cell_type": "markdown",
      "source": [
        "![Tabla1.png](data:image/png;base64,iVBORw0KGgoAAAANSUhEUgAAAa4AAADnCAYAAABG1bKKAAAAAXNSR0IArs4c6QAAAARnQU1BAACxjwv8YQUAAAAJcEhZcwAAEnQAABJ0Ad5mH3gAADCZSURBVHhe7Z1taFtXuu8f3w9T6Ifc6UALnZNpxo6cFpNASXNJkDmQl2lANqSeTjGYe3Co71SCiQ9xyQtlYn9yOpS8UJnjDkhzxqVhwGDSXDdgCTLjJJwhIuG4ZiC5Jo2UpBkyLWTgtKcfyrRfdJ+19tpba79J2pJsaUv/X9mN9lp7L209z1rreVlLVtf//t3/KxIAAADQgvzhl33qVYn/of4FAAAAQgEMFwAAgFABwwUAACBUwHABAAAIFR1guDbR27/soz/8cjNFVQloIj2bPRdbQTPBGAk/66XD1uwbtRmuZzbR8M+2ygnIPM6+sZmGe36gLgCV+YFNfqYMo880S4aN7KB+bf2Ahndu4n+/MU47Bv7cb9h1bcgGBqP98NI1j+2fPctjW10C6ia44XrmWTr7i8106KdPqQKD53+4iQ7tj9DbPaoABEbI8Fe/aF8ZvrDrJ3Toh9/R5Y8fqxIAOoPnf/os/erAs/SCOt8IXthlBBdnd7VfQBHQcLE3wcJ/Xrz8+u/024/X6F/+XRwF+u3n8gJ6ZT+8x+oRk7guw+9kaXNk+A29L5/jMeVUSe14t/XXlftcdp8WvlIFHYeubyGbRsoctBaarj/+O30pitgx3YOoqyEE+wKyjLaE4fqGfusabCLtsZlekQoTk5MImSN0iNjArT5FP9+/SRm8b+jy8mNj8npmE/2BozeJXi7DbePey19zJCeiu88f07/86RuKshfx85efMtoS2O5juM23D/Bz/FCcfEef/uUbopef5ecyn/kHFP3ZT+jn3KbZxpdshP/v8t8ppz2z830bj0gV/kTJShWZn5uf/dOra/T+Ay4SaVl2Fg79UEW4js/7wq7N9K8vl2T7W67L6e3xZzWj4y/5s/zbn/5Bezw/Iyn9leRUUX+e7X9Df7X6gr/MhdNjPKf2Pp/z+2ifxabXUGPq1RwbqtglJ6asvtX1n7OsWHfmOPiSz//t0+/oF3q/v3rf6D9V6bGyvkpjRBUAHzx07Zw3axrTHn3FprdvaLf1+gltls8gL7Iw55Syc2jF+VOwsf1DRI1OgkVcz6gH/fo7cid7/kF/+1r8+xT9k+5V/JBDZHOwCERKkY2VzO+bRktglWvwveakaLCJdusCF4j7rBCcO40ldMFT9IoUuonRqX6lCVzwvHhG/b1d77tRfE+PpQyJfvwjEd4bMrI6uECXU89m+o3o4NzxPv2cD/68JYmqAaR9jud/upl+YaYhq/2Mvvqr0L6Ft8xt8haI9zEHq8Cm13bhKZadWvPwTN9U0LeJSDtp40CkoX7D19j6vTNq99WjkyrHCKhASdd/kEaLJ/e/PJETf+1juhGUm0NZ92XnT0Fr9I8N2FUovL+CCpkfsyIELLyfbZIC+bVMlZipRi53THyf/kXdK6Oef9DHVx+re4wQXLbHnUAq95n/Sf9LCp29A2eYLvCs155Je2/7+zaJHkNGIi1bSU63Pn1M71/UvPme55THZX7WUirSpLrP6Ke/yu1LfGTu9Rm+/IvSrZVaafSgbXEC6NvUiZmil565kK85JsSEZ0tL+ejR0W6QMQKqR/TtEyvfy9c1j+mq+Z4WLq7Rr/9ijMcv1Tg3IvAyc2il+VPQIv0jmOH66jv/CcX6QN/R3xyC/ttXhsLoq2/olhpoP1Yex2+ER/JLYcHlqQNu6766V8Kvf7SJ/tXctcOejM0bMCNC9lSskJWf+Qv10ru+9EwlnO+7UfyANksZEn3xX9/TCz9SXhl7M55yevDYMBbsMf1KeHdiV6KqsrA+6/eU+5OZPhJU/xm99Gfh277CR+ZuvqP/vC/SjIyus7aitO5hTmI6FfVtwXp4YNz/+Gs1OX3O3ryQ71f/rTIfbsrq0aTqMQLKo3StJvXnX95s33RVz5iuC+4DfnNopflT0CL9I7DhMj4EC5UjJiuNo3K28gOx53fT/ECKfzK3eD/zLP1cKoknKeWdW5ZfHa6JT0eF0fT1Y2XpTe9SYRrWn26ytp6+wIL+sfGyhFYvnn235+Sw0Rh5YzOKucVy+Ot/GTIqeWduOQljIb024V1xZ/+5MwXFZcZn5fZ3ba1px6KX/qzJsdr2HTIHbqrRdz146tExVi1acoyEEJ7UP1aRzys7tdR3zWNai6S95rZKlJtDq50/BU3uHwFThSUl0E9ZANJjEFZb5GxFIXsZy383vGYLkW+PWNbdMm4rIn9rRlzmUZ13IdZSXN6CgL3N/5QTqvJW+JrfmO8pePCELjvqxbObofvHDZgcgqHlwaXnZXjcn3IoLxdBHxgyKnln5mHISSziiu9+vf2z57jjaDlzgXWv+Vm5/Zcd11RFef1VbN9H5s2Rd7PR9b2Vhs2Bb1JB3/Xho0en4Wq5MRJ+/rpipuOMXYW1jenSHgLn2lklnn/Z0LvuVHrOoZXmT0GL9I/Aa1xiS/Ovr7IiVIrCROxs+q1tx5SJsTPFypOKXLw0bt/Q+3KtIwAsNNs6Crf1qS1E/Z4Wljk0l4IViPd+rAQtMOov29Zi2Mv4/DH9+qLT4G40/BxCNh/r3rUhI6esTf56n8t5MLzC3o9YUJW7+qwUlHmvOmVEffCOVV5/ldv3lnnz5d2KlNd3ffjp0Ukrj5GwYqbS2Oi8sqnGMV1pbnMjDaZ2vYyuy86h1bxHa/SPdfw9LrXrzLUFGIQD6G/90bczm1uNGw30CMKNiOqcbMCuQgCAC/k3G80Ui9fXSwAAfsBwAdBUvqNPV5GCAyAI+Ol+AAAALQtShQAAAEIPDBcAAIBQAcMFAAAgVMBwAQAACBUwXAAAAEIFDBcAAIBQAcMFAAAgVHT9+3/8rbj/Jedf+wS1cPXuVwRZAtBeYFw3DyH7//PP7r9Pj4gLAABAqIDhAgAAECpguAAAAIQKGC4AAAChAoaribzx3NPUo45Ty6oQgGp4OGvrPz0Ds/RIVTWOK3RKtr+fPnyoisDG49S1dryRuq8u6ixqNFz36cMBIbhxuq5KQFCuEE3fpgdPvuXjNkXOQ5agWnj8HblEg7dE3xHHIo2snKRjDZ7EHqXeo/lde2inOgdNonucLko9a8etM6yXPTR4cKu6qLNAxNUsHt7TOt1WejMzS3vVGQDlEf3lKr3ZrU7pIL06SrSar2y4rh+v0ktnL//YFNHUsddVAWglrn9wklZH39H6QGcBw9UsurfR9AccdXliRLS29OHyuBbhGimcU8tmKseMfs1IWBxe6R293rwHrDtSd7o+WG/O1LC8RtdN6aiYRmYjM3uBaCR2UBXUj5gYafp39GaPKgDV4aVrpw7r0bVgHfQdNgIZrkep/UrAO2h6RZTM0Zgp9ON+kzDwhjvdhSEpu1rz1PMjl+lVM1UkdbGDCseMVMLc6E2aPqKvewijVao3ruF7oLf158CsTR/Xjw/RuweMKgu+xkoDOQ7XtQJ93WP3SXpx3ue6WpAT4xiNJzozDVUXHrqeH1206yaorh08unKJVnedoXij9B1CEHE1EdFRr03vodWpHTwBBY9+RubN9KKRKiJtgOyNjRGt3KVS0CXSS/aB0d27h2jt3jos6gMne8+pdaiB/TTGRqFubOsei9wZ/J3HksP5NL83qf5mnLudJrF+JqKtt5G6rhGnrufONTIyukLpqZs0cmyctqiSTiSQ4dqSuKoGym2a2iVKWCnm4GmocjoHKVO50DpHs+u9Q0j30vnYxwMAbBQHKS6clJWbtJONgou60kcH6d15NoYXLns6P6VxK6Js4vc3NwV9SxedUdXy+zRNZ+g8oq06sOva5QDUoWu5YYbn3Vc7ONoSIOJqBbpjNCgdgXVEGC2VUjInLRHtgQ2C5X9MeMqjYxzxvKUKNepMHzWK69k5jtRP0j5zMuU+s0o3aXo3v0ZauTocunatNdesayPa8jSGHQYMV5MQ6RsL4eWu6Ftbt1J3H9F81pwortCpEZ5QGooxCMBGYKTfVkUq95yxBlJXelY4IbbvbXH757l/jB6qe0Lbe84xmapt11Ni6z2yKlXg1rV9rbkOli9ztNW5W+B1ajRcxnrJgyfYwl0rIn1jpQhG1nhi0Lc3qzy52rzR89xlelVOIHXQPU7nOcKaF2shss33KDLdgLUWUJFHqbfYMSmtdQjd1vWdK9bleJ8WFYnNUn2LVRkWYZhc6UHQMLx03Zjv2JnOSedugdfBz5o0EPz8AQDtB8Z188DPmgAAAGgLYLgAAACEChguAAAAoQKGCwAAQKiA4QIAABAqYLgAAACEChguAAAAoQKGCwAAQKiQX0BWrwEAAICWwusLyNJweVWA4Pz+z194ChkAEF4wrpuHn+yRKgQAABAqYLgAAACEChguAAAAoQKGCwAAQKiA4WoiXV1dtqN/pqBqAChDYYb6HX2nlj6UTdR3P9hAnDpPZFVFZwLD1UyiScoXi1QURz5JNNHbkIlDTkgd3rHbmshRumH2G63/RPm/4cGIuqhK4hlbOzeOBrwfbABZSvSu0aSu6/RARzsZMFytAk9Gk3Gi3FpeFQBQPdmzE5SLTxLsTjsSo1Qxxf9XYK6A4WptCjTTr6UHuhLse2lkE1odH/0JSvD1A2muY49MllmRV4W2wPoh9dRPJQeZPWin8J261I6KwXNhhk6zzuND1tQGmoWXrp06rEfXwEB8ARk0hqCypGiymFevOfwvRomK8Yw655pklIpUKuBLoqV75PXRYtJqoEQmbr/PbEsvcl8D1hMpb6U78bqR2PpFAOQzcZ+zjhra6ASCjmunrhs+zlxzRfviJ/tAhksOEK2jR71mzQ4msOHSZMn+ctHWDz0NU6YYt8rEa28dVDNYap3sQK0ofUXFGIqrskZgtFv/JKYcJfQJF0HHtVPXjbUvboe2nfGTPVKFzcTanJGnZDRNA/0zZF9uzdFEr55KGKA0lxmpbZH3ztD2iV5Vp6cnPHDsSuqdyKkKsDHE6ATPOLlcjtV+QpVp1Jg+Ksyc5j4RJz1LWJjpr/r+EhE6KhdOFmipc9f8G4Rd164Ebh2pwmyilyaI541Uh6eFg3sTwI/AEZfu3TrD/zKpQE8ycfbujOtdEZdHagER1wZj6iBu6Kkx+EfdNSH7UKMjhPATeI506Lpx6vHIzLQ5iLhaHbVTKL2oXK7IIA1HOeI6W+VqbW8f8WApceeeI3rTydJZRFwbSIFmDotdfxlKpVKUiefK6CYA2UWOtmrYAi8QXr99xwAlxK6e+JA7QgABcOt64rAzkxIc8RWXgXScMvruwk4GEVfjqCviEmhRk4HKZ7P3VjqUxyWvtdfZozVVrgrt65P8Hkm+HxHXhmDIXveUMw2Ikupd63D3LaxZexNkXHvpuu6oWB/PtqNx0Vyr4id7/KxJA8HPHwDQfmBcNw/8rAkAAIC2AIYLAABAqIDhAgAAECpguAAAAIQKGC4AAAChAoYLAABAqIDhAgAAECpguAAAAIQKGC4AAAChAoYLAABAqJB/8km9BgAAAFoKrz/5JA3X/peeUaegHq7e/YogSwDaC4zr5iFkj79VCAAAIPTAcAEAAAgVMFwAAABCBQwXCMbDWXrjuf304UN1DgAAGwwMVxPpee5peiN1X50ZXD/+NPUcv6LOmsV9+nDA+zmuf3CSaPp39Ga3KgAtyBU6xX2rBw5GB9CZuobhajKrU+/TdfW65eFoa/bCGI0ntqoC0Io8Sr1H87v20E51DtqXTtU1DFczGT1DU7vmaNYRdTWfrfRm5lt6cO6gOld0j9PFJ7O0V52CFoSdi2NTRFPHXlcFoG3pYF3DcDWVbfTmsbEKUZdK28l0gDjG7dfKNSe9Xhx62qDc/Y46LTVoT1lWeAZVf2rZTFuIA2kqi+VxhzxYTsvqpYm8Rpdx6XBdWwYrldujCsDG4qVrpw6h67qB4Wo2B96WUdeY57qWMAg7aLpvkR484QiIj2vTazQ2MEuPZD0Pit2i89426m+doZ20h6ZuXVVrUMb9hWPGveKYGzXfy932HA15DByP60QbLuNFND/yHkVumdfcpOkj5nN2OAdmbfK4fnyI3j1gVFnwNaZ8nYfrWj+Qym0+HrqeH1206xC6rptAhutRar/NO3BuLAC1sFVGXXThPXeE8jBLSytsiI6UUnZbEu/QyMoluiqufXiPPmNDNXhQdd7uGA3uukmFB8apmfLTB0N37x6itXv0yKPtvec8Bs7y+zS9MkZzWtpw77lFGmEz90eHkRuZNw0mXxPjz7RylxB0GUiZrZykYwP7aYwnnMbDDsYR4cS8jVRuk3HqWh87jQG6RsTVCsioi720D7yiLi7fracT2IPjMmmcurfRi/x66YpyIJQxiuipA0cqcd/UTaP8wV1apT7qxu7ADeIgxaf30OrKTdrJE46LAOkjpwMp64WDQWfoPKKtFsCua5dxCZgqdOn7PHQdyHBtSVy1hbUXMUgaRCnqml1TRRYi9WdPJ4hDj4xWp3YYnXr3SXpRi3qk0ZJlpfuu8YCS9LxEO2mNHiIk2hhYF8fYaRgZFWuab6lCjQDpI+c4FPXXs3Mc4Z6kfeYEx3pfNZ0ezzQ0WDccunZlUgKmCp36fvVL6BoRV6ugoq7VFXUuUKk/70iMWb5M87vO0DWtU3t1/BJXKG1GXB5tiw0ZLo/vwCGZFtTX4GTent83Xva9QAkjtbMq1jrOGWsgjV77E2lefXIrrXfy64anqoA/bl03eq0XuobhaiE46vpAdEAdsUZ1m6bWhqw0gXGojRHsuV177VLJ81KHZXy6x+k8R1jzI2bdexSZNtdXRNuLNHKh1PYYORaRJQfp3SeO69bYWGbGaYu6ApTnUeot2zqhWAM5hvXhtsRL13K9C/puKPhZkway0T9/IHLf+6b6aE7/bpXIn4+QvQwAUDP4WZPmgZ81aVd2vUT6/opHBdciGQAAtBUwXCFmS+J3NEXaIi0frggMAADaDBiuUGN8T8u2UAujBQBoc2C4AAAAhAoYLgAAAKEChgsAAECogOECAAAQKmC4AAAAhAoYLgAAAKFC/uUM9RoAAABoKbz+coY0XF4VIDi///MXnkIGAIQXjOvm4Sd7pAoBAACEChguAAAAoQKGCwAAQKio0XAVaKa/i7oSWXUOWoVsorF6aXR7NVOYof6ufpopqHPgi9BZPwQF2pjAhiub6OdBkadt24mifeocBqwmurr8jUJhpt+o759hN6GR1ON0rLfD4t9+9uwEUfIjOhpRBZ2INN4sH/NwyMk0WL19Udq+LSL7kN2AZSmh39+V4BIQJqQj6ac3Z/9o+NzROgQ2XL1Dw7R9YYAG0kS5Cf73znYaHupVtSAw6UWPTpilsxM5ikaj6rx2WiZiqgcekKfTcZrsaKvFRqd3jSaLRSqKI5+kaHrAZphiqTwNL/RSL/ed9EAX9S4M00eWzIRTMEDpeMa4n49MPE0DbTy5tReG0yHmXU+E0eqdoO0Z1T/EceMoteuIwRpXM4knKRlN02lnWie7SOlokiaH1XlDidDRG9ypUzF1HoR67q0Gn/YjR+lGMUXr9a7hIEYpXQYsk8k4O49reVVQiTyt5bjLDZWkGBuSDXANaHWyCXY6eE7IZ1hnHoiMRI6dknUbmi1GYMOVX1ygO8MZ9taIokn+d/sdWlhE16+NbTQ4HKXcwpLN680upik6PEjuONZIpdkCqGzCJ3VgXCs9NPbM9dRSKQoT14h1Iz2FVH4dyR3BGe9jpSesOke54xm973G2X64Noy6Rrf7Zm4bUkf5s/MwJUaZ/ttJhE28AsoleWhjOUz4ZpTh73vnhBTpsvWkv9XEAnz5tRlgsv9PcOeJDHe4QNBgvXTt1Kq8JpvtYqlwElSWeMmxOSbsT2HDFUjfoxtFeundHOmvGeaeY+XUgMjhM0dwCLZkdXabFojQ8WG+Qb0Qv0kEz00OeesrRRO9p6stzPV+TTxKfV7v2IYxHL01s19JPNMCDzyhfmzTKZLlIS2kGyX2PqrLwaFu04TCA6YHSs2fi/FkOt2DqK5ayPZvwnlOplPW5nEdVw0n2E0cExZPbjaMRynNodedegYMyMVbNfiT6Q56SNEG9cpI0jNz6Rc8dioeuRXrWJma+xkvv4qhJHYV7dIfYK1lU6+LqaOcNOjWmCtc7ZdRBRAZpOJqjBWW5CksLHPJPbugmhHjmhvV+kaOTFKc0LVZjuQpLtJCLUvKEffJMxYz+oXcPsWGAZ1PDqPB97nvUiUn2LE3k4pTRKmKpjOvZ9Gdv5dSXfPbcBB3mCHcg7Z3uqR426of9U0OmAXMh9cX/yhQ1i2qit+boDvjj1LXeh9cPdlb6PioZQfZYcxOHWzMD0QCwxtV0eJKfFJ3sLEcSBVrimSU0IX9+jYfLdtrmZWQdO5zEhgELvs/znrYmRifYWuRyOYomT9SULjIRKcEJjp3yQSZEffE+ddRwPHlySw+0aHo11Nh17dJSHbovh9hJahEbYicvR1UvgYYMGK5WQHYyjiQSRpTRVLul0g591WwU7e3jK+/QPefE57HDSay7WPB9rnvaHZbJYTbe8bjhCbNbXvKOHUc5eyTWAKUXH3THmHQyHH2rzSe3puHQtcsxaHSqMLKN3UeR0OicQQXD1RLESGS50ulKi+UR+f25tJUry1LCd3+shpmi80H3umWq0i+KcqLSnBNnS26imFgTS+rEwtjeb8H3ue5xeprKmJfWxcR1xs4qLcsYErTUXspYA6llirGMVi07LKWTYU+zFmZOc0mVTgqoEreu13/d1Zg/9E1ehm6b7ASvJ+Kvw4PGEFSWYuuXRSZeJIoWk3l1znCUUqRosqgVMZki91HxUzR8xIuZfLIYFf+atXEu19uV9ep6VV66Jl/kQKgYz+ht2p/B2Z6rfdvzlOrks+ttJvnzaZ/F6x6BvX1H2zZZmM+uTgVShiVZtAqGLPTnyhSjupCrQdej7bDrqyxSPjXe28EEGddeuhZ9OLC+HchxYdOdU3/GeCjVtd44qAU/2eNnTRpI+H7+oLT7b0PWjwEIIfhZk+aBnzUBAADQFsBwAQAACBUwXB2N+/tWAADQ6sBwAQAACBUwXAAAAEIFDBcAAIBQAcMFAAAgVMBwAQAACBUwXAAAAEKF/MsZ+196Rp2Cerh69yuCLAFoLzCum4eQPf5yBgAAgNADwwUAACBUwHABAAAIFTUarvv04cDT1HP8ijp3UqkeALARXD/+NL2Ruq/O3FSqB6AVCWy4rh/fLzt6dx/Rzl51rhmoSvWgRM9zbNxtxzhdV3UAlOXhLL2h9x3HGDMNUnfvHnoxspUepYxxaVKp3tX+wCw9UlWgGVyhU7o+OnyuCGy4umOv04ufDNHYBaLVKf53rY8GY1tVbeV6oLHrDF178i09sI5Z2quqwo6YGBFxrxc8ie2+S+Nmv7l1hnZeGLIZnr3nbtPgJzto39RNmh95mvZ98jqdT5TGYfn6+/ThkUs0eMvsl4s0snKSjumGDWwgIoM1RPOji0of39Lc6ByNdbAzgTUuAAAAoQKGC4DQcZDe1aPz7nEaHyVazTcqItpKb2au0pvd6pTf79WGtg+CcZ8KK0QjsYPqnCPm2BjRyl16qM47jcCG62H2En322iKHqkQ7p/nfvjVaypY6dKV6UAXL49Tz3H760OqVRn771LJ4LdIGok7PeevXCtTmGM98uFF3arnc/QK/Nirdb9SLVDFdGDLqrZSh3mYH5ei99Cl1qSGvMWVjP1zXVsH14zto6bXbdG16D43Mf0vXXrtkS/VVqrfxcJZmWZ/6xAl8KDt2FYF1vZUiu4jmz5upQR5H5+eIRg+1zdJCUGr8yxliAtpB032L9OCcV2euVN+eBP2GveioOmICefeA8VqsEY2tnaFrmXF6KF6TKUsl25U9NHXL8IrFwvq+qT6ak164W/ayrQtj9nrtfv29tsg73G3I9/jkdb4mRlcr3q/KrGcW2NsstVe6p51x6nPvuW9VTQMQGyl2n6QXtf5jIt53tvc2XdTWt3R861Wbq+pU75udRtBx7dS1fRzUijlujbOd0/46bSca/JczRCrh2zLKqFQPJI7NGfrEsPecWhDn6EoaHYcsR+ZLqZwtiXdohOboj8JbW36fO7f9etmWWa/Q73elHR5maUkYpiOlNuR7rFyiq+qisvd74WjT2V6749Rn4+AJ7QgbmNFFT8MiDGS5Cc63vnucLlp9c5EVzhEBNttURaWxWxNy/PC/o2doiqOv1akdNUXi7QLWuFqWgxSf3kOrKzfZu3q7CSmBmzS9W09jDNE8lxUeqOqa0NtsRHthwq5PFzWmCkXKb5rYAVpXJ/EgvTvPxvbCZXxdoyoqjN2gutYi6gfnxo2ggPUxP+KV4u8MYLhaFe6sx6Zu0sjoGHtXb5XvoA/v0We0hyI96rwhiFSg6XGXjvrSRe42Oyb95NCniwOzNrnoh5+MZEpKePQdkm4NDZXGblBdP7hLqzRGr+p1Bw7RSEc5fnZguFoSLf1zbpbmRjlSOWL/zobubT26cok7dh91i9Sd7NBzNKalda4f5+hm1xmKV2skumM0uIvf84M6U0Nr90rP3Kg2Q4lbn/V+/8YyWuvx3T/h4du+I8TP3+GbAaqn8tgNTM9LtNOR6n+Ueo/mG+6shgcYrmaycpL22VIFxk67R6m3bOtUVs5c2/U1Mv8OFVTabd8UcSRjTmBiqzRfb+7o48O5caIyYo3yNk2tldowjup3Au49coZ2mp9PGlGvNjtjZ6GXPuv6Mi8bFrHLj4SDYslSHA1KHYnt9X1637Rv1AH+VDN2AyPWG2VqsKRrY8yX1pk7DfweVwPZmN/tYY9uYAcVjnVQmg2AJrIx4xp40eBdhQAAAEBzgOECAAAQKmC4QofxHTmkCQEAnQoMFwAAgFABwwUAACBUwHABAAAIFTBcAAAAQgUMFwAAgFABwwUAACBUyL+coV4DAAAALYXXX86QhsurAgTn93/+wlPIAIDwgnHdPPxkj1QhAACAUAHDBQAAIFTUZ7gKM9Tf1UVdiawqAAAAANaXugxXYWmBcvxvfChmFIBwIx2RfpopqHPQmWQT1NWVILijoFWpw3Bl6eyENFsEu1UbXSJatR3OyaJAM/3VRrTVXFv+muzZCaLkR3Q0ogpA62JmO8yjf4a16082oV2rjn4fDyW7mBbeKHkOa+f7ItuyoRh6rOBUOHWkHabOg/SHVqR2w5VdJO7e/h0cVCaeoWKxaB2ZeJoGmhXxcGc/nY7TJKxWCGAH5PACDefNvpOheG6CDlfqOI7+dsNT11laTEcpecJrVGcp0btGk2Yb+SRF0wOhmvDCC8uejcuAnHQrEDlKNzQ9W7ri/4YHNZ1X1R9aFLEdvhYycRLf/yrGM6oAFIPKkjuOelVCyjWaLObVOQDVIPtNmcFYqd4kn4wG6n/Vthtmap0jG4k1L2TiPO/Gi0El7tRTWPTmJ/saIy7hlYl/kSZsNLET7BnlFmhJObEypE9kjX+d6SDHWoR5rTqxpwLUvbZrJCp9aF2rpyGMukTW8PaMeqyBBUbqQpcby9OZ63HqSzsqZuNktMyjse7BWKClhRxFhwcJcXeNeOnaqcMadB1LcVR042htemlY/2ghavImpNWnYjSJuECnEREXC7cY1yJZyzOSMo8WSyLPF5NRuw6sa/PJYtR2bQm7p2W0oT+HrLc8OlWvtSXrEREGRpebeF03UsdCN8ahqdATQ6/a4aVD2WYAb149Q6X3DjtBx7VT197jvEZqiLi8ouiq+kML0NCISy7eOvOlYH2JnaBkNEcLZihWWKKFnI8OIttoO2nX+pE9SxO5OGVSJU8slspwHJ2mRc3zi2duWBs2YkNsVnNrlDdOQZVIuYp1qP5+GkizDOvFto6RIRpgj71MaCY9duv6PCVpgnodEbzYnJOres1arLOJ6zOkdR/AOHWtj6+Nx9hEF5+0R2vV9IdWJrjhUmEnRYcJdmsdKNyjO+wU9PWqc4sIDQ5HKbewJDuX/CqCrw5ilOLJbPtEr0pBIL3XfGJ0gsPXXC7Hzu0JVaZRT6pQ6JtdaEovamneckTo6KRwQEopaTHBGZsJq5tks4lenuqSlIfV8sCua5eE6tJ1MAozp9kNrbSk49UfWpvAhsv87hby4OuD9Hp9DFJkcFitfxlrEU4vyo4wXsqjymyniV4Yr6bCDt9h4fnG45SbOKwKNWIpzQO2H+tnG7bTNrMDyV3C1a1Zi3VSGUnUuubS7jh07Rp3G6ZrI9ryNJ6eaP2hxQlouIwJE2nC9cGYEKKU/MhnQogcpcl4jhbOnqWFXICNMb19rDEPYkMyLTiguXnZxAClo0ny3A0NakRLq6VSlGEd1uVD8MTYb0vrcPvG6ruaoNSGG/Ma4eHbXPksJcS+ai0tKNL/1UxwltEqpqqcDDsNt64nDq93Cs6hbxPpjHjM1VX0h5Yn0MKjuSDc7quxNRJ4c4a+OOqzQOpa3FUbY7x0YF1rXqMd5uXuxWJjM4h1re0ZjM0Z9suDLw53OnJx3CazTN0bm1yL6zYlqU01li7NTTalw/b+ZTbz2HBsCCkdVdwbYoKMay9di/HVcH3b5O7Ut0CV2fqFSYX+0EL4yT7Qz5oUZvqpV4TAmfVMX4QX/PwBCCNyXC8MUx6pP08wrptHA37WBH/iCYD2o5r1UgBaiwCGy1zsR24bgPYhQkdvIIMCwkXw7fAAAABAE4HhAgAAECpguAAAAIQKGC4AAAChAoYLAABAqIDhAgAAECpguAAAAIQK+Zcz1GsAAACgpfD6yxnScO1/6Rl1Curh6t2vCLIEoL3AuG4eQvZ1/sknAAAAoPnAcAEAAAgV9Rmuh7P0xnNPU8/xK6pAo1wdAAAAUCN1Ga5HVy7RKv87EjtoFGiUqwMtinQ29tOHD9U56EyWx6nnuXG6rk4t/MoB2GDqMFxXKD11k/8do1cPGCUlytUBkx4RkdoO56Rwnz4cqDZqreba8tdc/+Ak0fTv6M1uVVADj1L7q/hcoG7MjIZ5DMzSI1XlxfXj2rXqeCN1X9XauZ6dIxo9RHvVuYlfucT5PMi0rDuGTqsZW2rcW/oJ/3is3XAtX6Z58a9XRy5XB0qMLtKDJ99ax9zoHI01K+LhiWf2whiNJ7aqgjrYdYauaZ/rwZPZqvqBHIiY8KqAJ6Ijl2jwlinfRRpZOUnHfAyRhaO/XfTU9RX644U9NHXEmSnxKxdcoVO779K42fatM7TzwpCvYQT1wvJmAzR2QZ1W4PrxHTRNpTEp55kKjk6rU7Phkt4X45UKLFcH/Nl7TnSqmzR9xOxUW+nNDHe2c9XIsZpry1zTPU4XqzQwoNkIPV7VIuOD9Ooo0Wq+fkPxKPUeze96nfY7om6/coOD9K7ed7gvjTfoeYCb68eHWBdsiObHVEkZpEPKDscH47RFFe09wo7FyiW6GuIlgRoNl/C+xL/eaUL/OlAJZ6cyoxD5r9NLcqw52CIWWSfSAupQ97qjmnJpBKPu1LLh4Rn19USEpfbsbRnl0oNkT13WWc9Y7vnEc3Eby2aayt6e9z1NQOpClxs/97J6aeLUl3a4rnUiJ6dGOIr36eonN2nnazFrkjPwKwcuvHTt1GE9umaEg/sgUzJEZXlwl1apj7p1h6N7G71IN6nwQJ2HkNoMl0oF7px+2zdN6FkHKuPTqfbG2LuyeUk8OZ+f85azWG8YWaMpK5Xk19HFBL+DpvtKKSQjXWmf6OdH3qOIasseEfqwcpL2lRmMoj17W0YkOMdeupXOklGh+/muTa850hzcxoiZphJRiHFP4ZhxvfE+/JmamYI8MGuTm/CY33U6dXyN+bzOw3WtQF9T2n2SXpz3uU7HdArE4ZUqepilpRWPdLFfuR8NM6QhxEPX89ynbboJqus6eFRYU690tlJkF9FnhfBGxDUZLiMVuIcGD7o7crk6UAcH3qapXTdp6YrqbHIy8ZGzMn7WtX4sv0/TPCHNaanDvecWaYTm6I+asRmZL6WlDAN6lyz76YVjjcs5GEV7goptqc+or6tsSbxDI440x8i8nuI0jKD+nt29e4jW7rkn6g1EylWsQw3s58iyihRPJWRq15TxIguBjVEZ4yy9dOv62zRF7Fw4jJfYnLPqtSnDp9wbdhyOiOsdk3UH4dS1Pr5AYwhuuJQ3RV757nJ1oDoe3qPP2PBHetS5xVba/9oeWv0kKycb+XWDsmsOi/Ti1A7lYeupi7DB3utuFSXIgz3YSmkOPRrhY5/c4dpsDlJ8mvW3clNGyS7qSh+xvsV6x4XLVaZE2bgfc0bwRorfHSX5lXtjbQTo6MnarmuXwa8zVRiELZE+9UrnPhVWiF6MhDe4CGy4zO9neeW7y9WB6pDerY9B2nLwdbX+Zaw5jBwrl+cWxkt52PN9PPmH1XhxxKWnPNXh680Lo6VSZ+a113gSaTr8XMfYgI6MjtHq1FuqUGMD00cltLUPmeL3WJf2K/dArJ/KCKPa9Zd2xaFr17jbSF33vEQ7aY0e6s/g6xyHh4CGy5gwvVOB5epANRgD374DyIbcrXWTlj54X645VL35RXZeDw4ckmlBff3H3LEUX7fJsgJ6Sq87RoO7OOL6oJ71KfM7hc1ES5+dM9ZA6kpbCuNsS/Nx++f171iJdT724M1rhIdvSyNeoVMj+vWs96z3eqlfuRPLaHX8zlS3riuuCTcUh+49xpCR+n2nru9rNptghkuuOfC/Xh+6XB3wRl8s52NsTawN6duc3Yh1odULc+XXHJypCBmBeLVrpBRHtOeQz1Cvx7xi35xR7a4+Y0eluldOtGK96jZNrdnlVLY9Nu7nOcKaF2s+8tr3KDLdgDWlOniUesu2lijWQCp+56ocwoHp02WsNrD4pefE+qhNhkP02fTt0vVsCMWWaZfD6VfuRF4nXoiNPeZ7iCPMKera8NJ1Vd+xC4DcGSzkK5wPS+Z+shZjyGOMhzyVG+hnTcRfRRDrBSMeO5jK1XUK+PkDEEbk2P3kdZfD4lfeaWBcN48G/KwJ/sQTAO2H33ppNeuoADQH/JBkA4FnBkD7gXHdPBoQcQEAAADNB4YLAABAqIDhAgAAECpguAAAAIQKGC4AAAChAoYLAABAqIDhAgAAECrk97jUawAAAKCl8PoelzRcXhUgOL//8xeeQgYAhBeM6+bhJ3ukCgEAAIQKGC4AAAChAoYLAABAqIDhCjOFGerv6qeZgjr3Ipugrq4EZdVpJbKJLupKVHs1CAUB+wAArU5Aw1WgmUQ/DwKe3Pjod86YcoBUmEiBhZSjj5EozCg598+w1L3Jnp0gSn5ERyOqAHQG0mExxqDzcI1JJruYJooPUUycOO+FkxIqpGMJJySg4cqepQkeA8l8kYqZOOUmDpeMlBgQA2mKYiINRnrRoxNm6exEjqLRqDr3gOV9Oh2nSQi784gcpRtFHoP6kU9SlP8bHnT2hywtpqOUPCHMVpYSvWs0qd+THvA0dqDVYN2xo8FTLGACGa7CvTv8/+20zTVXigExQbl4hm5gIq2eeJKS0TSddkWui5SOJmlyWJ17ISevlOFFg45HRN+5+KTLaSzMnOa+NEyGPYtRSu8z3Icm40S5tbwqAK1KNjEg54Q8BwygpjWuO3TPNs8WaKZfCTWFaTQY22hwOEq5hSVbOlCkdqLDg9Srzu0IeWupHmfawJYK6qeZe6pcYtxryw5VXP+o8H6gMq4UOjt6TiHKa3Q5l46K2TwZfYtsoHP8FWhpgSN37ktwJzcIL107dViDrmMpjpBvHIUeTcQXkKsnX0zGo+IvbfARLcaT+WI+Kc7jxYy6opMJJstikeIstXyyGGVZsigNtHMp22iSpW7C8o+y7MV9CnbANPk76zNF9s9c9drtogGb/mR71gWV3g9Ui5Sb0qV43Ujc/UQh+1IZXcl6R38ALoKOa6eu9fFTN47x2u74yT6g4XIghSg6fp5fmgaNitEOHQk1GS5lHKLKcslJSMnPNSF5dlrDOBlNOYygwHZPQMNV6f1AAAy5RaNinMRVWSPw10f5SdPtlABvgs+Rdl03VMKeY7J98ZN97dvhrc0YeUrRWbloyBOmsWkjPVA5vQEUETo6KTa6nKWsSu24Uz5Vkl+jnOcaJGg+MTrBliKXy/GYOaHKNGpMFco1LIqTu8uITRk8xfn0pWyilyYI6f31wa5rt2rqSAsDSY2Gq8xmjN4+KrMXDngRG+KpJ02LibM0kfOahKpEyt65BglaAnb0Dk+wUxI3duO6iKXsuwS1w9+2qN2nnpPjoo9BE/Om2J0WpwzWTNYHh65dmzZr0jXQqclwWTtcvKQsvf4o9XnvLACexGgoTpROSxfZPQmZKAM3oLllpi7kbufINo63crSwpEaKiopLRGjbdrED37yfHZBy+2srvR+okgLNHDYcvVQqRZl4jksagDROXlvgRZXIhrgNmmW0sCN1nXDreuKw/3cxQY0Ezd8amzEc6yhFrHEJalvjUsjctV2u3ovuRv7clLWrXi24G/XxYsa1QK/f7653r4tUeD9QEWPM2HVgrmnWTpk1Kq+1ToGtb+iHx7XAIsi49tK1XO+qU8ByXHag3vxkj581aSD4+QPQCoi/utK7MEx5pAIbAsZ188DPmgDQEagNPpMwWqB9geECoK2I0NEbWOQH7Q0MFwAAgFABwwUAACBUyM0Z6jUAAADQUnhtzugSWwvVawAAAKDFIfr/1LnxZkSUsgQAAAAASUVORK5CYII=)"
      ],
      "metadata": {
        "id": "aWA47SFfSHKh"
      }
    },
    {
      "cell_type": "code",
      "source": [
        "#Ejercicios adicionales\n",
        "#multiplicación\n",
        "4*3*12"
      ],
      "metadata": {
        "colab": {
          "base_uri": "https://localhost:8080/"
        },
        "id": "vTVa71gqZ_Uu",
        "outputId": "6aadce62-c96a-46d0-889a-90bcb36d4977"
      },
      "execution_count": null,
      "outputs": [
        {
          "output_type": "execute_result",
          "data": {
            "text/plain": [
              "144"
            ]
          },
          "metadata": {},
          "execution_count": 1
        }
      ]
    },
    {
      "cell_type": "code",
      "source": [
        "# Resta\n",
        "3-5"
      ],
      "metadata": {
        "colab": {
          "base_uri": "https://localhost:8080/"
        },
        "id": "niu3XlvkaV7R",
        "outputId": "7be0eaa8-e518-48f5-c927-653429d0ebb7"
      },
      "execution_count": null,
      "outputs": [
        {
          "output_type": "execute_result",
          "data": {
            "text/plain": [
              "-2"
            ]
          },
          "metadata": {},
          "execution_count": 2
        }
      ]
    },
    {
      "cell_type": "code",
      "source": [
        "# Suma\n",
        "a = 12 + 15 + 10\n",
        "print(a)"
      ],
      "metadata": {
        "colab": {
          "base_uri": "https://localhost:8080/"
        },
        "id": "FJHUVDKVaaTS",
        "outputId": "07af379a-3afc-46ce-d44a-eff043ea9171"
      },
      "execution_count": null,
      "outputs": [
        {
          "output_type": "stream",
          "name": "stdout",
          "text": [
            "37\n"
          ]
        }
      ]
    },
    {
      "cell_type": "code",
      "source": [
        "#operaciones combinadas\n",
        "(11 + 5)//2 + 7 / 6 **2 + 250 % 8"
      ],
      "metadata": {
        "colab": {
          "base_uri": "https://localhost:8080/"
        },
        "id": "sBZsothxaKsi",
        "outputId": "638422a5-2f01-45c1-d389-1903d7659baa"
      },
      "execution_count": null,
      "outputs": [
        {
          "output_type": "execute_result",
          "data": {
            "text/plain": [
              "10.194444444444445"
            ]
          },
          "metadata": {},
          "execution_count": 4
        }
      ]
    },
    {
      "cell_type": "markdown",
      "source": [
        "### Operadores booleanos"
      ],
      "metadata": {
        "id": "XQvIhc1PZ1DY"
      }
    },
    {
      "cell_type": "markdown",
      "source": [
        "![Tabla2.png](data:image/png;base64,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)"
      ],
      "metadata": {
        "id": "nvmo-1SeZ6NA"
      }
    },
    {
      "cell_type": "markdown",
      "source": [
        "¡Los operadores aritméticos y de comparación se pueden mezclar!"
      ],
      "metadata": {
        "id": "jLTJ-SwXaqT6"
      }
    },
    {
      "cell_type": "code",
      "source": [
        "5 * 3//2 > 3 **2 - 1"
      ],
      "metadata": {
        "colab": {
          "base_uri": "https://localhost:8080/"
        },
        "id": "LNdkSTFuauzb",
        "outputId": "f71dc70e-3d8d-461d-8b83-734bede80686"
      },
      "execution_count": null,
      "outputs": [
        {
          "output_type": "execute_result",
          "data": {
            "text/plain": [
              "False"
            ]
          },
          "metadata": {},
          "execution_count": 5
        }
      ]
    },
    {
      "cell_type": "code",
      "source": [
        "(8 * 5) < 64 and (10 < 7)"
      ],
      "metadata": {
        "colab": {
          "base_uri": "https://localhost:8080/"
        },
        "id": "HgViGPoIa1HV",
        "outputId": "ac8fe9c3-c850-46ed-dd86-22608587f8e1"
      },
      "execution_count": null,
      "outputs": [
        {
          "output_type": "execute_result",
          "data": {
            "text/plain": [
              "False"
            ]
          },
          "metadata": {},
          "execution_count": 6
        }
      ]
    },
    {
      "cell_type": "code",
      "source": [
        "(5 > 4) or (8 < 6)"
      ],
      "metadata": {
        "colab": {
          "base_uri": "https://localhost:8080/"
        },
        "id": "tKhQkmT8a61x",
        "outputId": "20846441-23dd-48bf-f774-d6517d891e81"
      },
      "execution_count": null,
      "outputs": [
        {
          "output_type": "execute_result",
          "data": {
            "text/plain": [
              "True"
            ]
          },
          "metadata": {},
          "execution_count": 7
        }
      ]
    },
    {
      "cell_type": "code",
      "source": [
        "not (8 < 6)"
      ],
      "metadata": {
        "colab": {
          "base_uri": "https://localhost:8080/"
        },
        "id": "yK2yVn62a9lk",
        "outputId": "f24a7122-4f8c-471f-c0a4-9707159152e3"
      },
      "execution_count": null,
      "outputs": [
        {
          "output_type": "execute_result",
          "data": {
            "text/plain": [
              "True"
            ]
          },
          "metadata": {},
          "execution_count": 8
        }
      ]
    },
    {
      "cell_type": "code",
      "source": [
        "Got it"
      ],
      "metadata": {
        "id": "CKQhZ_YIuM6t"
      },
      "execution_count": null,
      "outputs": []
    }
  ]
}